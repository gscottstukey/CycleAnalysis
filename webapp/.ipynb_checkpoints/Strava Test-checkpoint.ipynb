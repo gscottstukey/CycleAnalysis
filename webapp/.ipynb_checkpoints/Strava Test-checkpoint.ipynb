{
 "metadata": {
  "name": "",
  "signature": "sha256:635b0ba2d34454539e99cc866a330af593873b1ce61f08ef48462df15265fdfc"
 },
 "nbformat": 3,
 "nbformat_minor": 0,
 "worksheets": [
  {
   "cells": [
    {
     "cell_type": "code",
     "collapsed": false,
     "input": [
      "import requests as r\n",
      "import matplotlib.pyplot as plt\n",
      "import pandas as pd\n",
      "import numpy as np\n",
      "%matplotlib inline"
     ],
     "language": "python",
     "metadata": {},
     "outputs": [],
     "prompt_number": 34
    },
    {
     "cell_type": "code",
     "collapsed": false,
     "input": [
      "ACCESS_TOKEN = '535848c783c374e8f33549d22f089c1ce0d56cd6'\n",
      "\n",
      "def get_effort(effort_id, types=None):\n",
      "    if types is None:\n",
      "        types = ['time','latlng','distance','altitude',\n",
      "                 'watts', 'velocity_smooth', 'moving']\n",
      "    \n",
      "    payload = {'resolution': 'medium'}\n",
      "    url = 'https://www.strava.com/api/v3/segment_efforts/%s/streams/%s' % (effort_id, ','.join(types))\n",
      "    header = {'Authorization': 'Bearer %s' % ACCESS_TOKEN}\n",
      "    response = r.get(url, headers=header, params=payload)\n",
      "    data = response.json()\n",
      "    data = {x['type']:x for x in data}\n",
      "\n",
      "    return data\n"
     ],
     "language": "python",
     "metadata": {},
     "outputs": [],
     "prompt_number": 73
    },
    {
     "cell_type": "code",
     "collapsed": false,
     "input": [
      "segment = 4236596979\n",
      "effort = 3896369702\n",
      "my_effort = get_effort(4236596979)\n",
      "his_effort = get_effort(3896369702)"
     ],
     "language": "python",
     "metadata": {},
     "outputs": [],
     "prompt_number": 74
    },
    {
     "cell_type": "code",
     "collapsed": false,
     "input": [
      "d = {key: pd.Series(my_effort[key]['data']) for key in my_effort}\n",
      "mydf = pd.DataFrame(d)"
     ],
     "language": "python",
     "metadata": {},
     "outputs": [],
     "prompt_number": 81
    },
    {
     "cell_type": "code",
     "collapsed": false,
     "input": [
      "d = {key: pd.Series(his_effort[key]['data']) for key in his_effort}\n",
      "hisdf = pd.DataFrame(d)"
     ],
     "language": "python",
     "metadata": {},
     "outputs": [],
     "prompt_number": 82
    },
    {
     "cell_type": "code",
     "collapsed": false,
     "input": [
      "print mydf.shape\n",
      "mydf = mydf[mydf['moving']]\n",
      "print mydf.shape"
     ],
     "language": "python",
     "metadata": {},
     "outputs": [
      {
       "output_type": "stream",
       "stream": "stdout",
       "text": [
        "(3201, 6)\n",
        "(3198, 6)\n"
       ]
      }
     ],
     "prompt_number": 83
    },
    {
     "cell_type": "code",
     "collapsed": false,
     "input": [
      "mydf['lat'] = mydf['latlng'].apply(lambda x: x[0])\n",
      "mydf['lng'] = mydf['latlng'].apply(lambda x: x[1])\n",
      "mydf = mydf.drop('latlng', 1)\n",
      "hisdf['lat'] = hisdf['latlng'].apply(lambda x: x[0])\n",
      "hisdf['lng'] = hisdf['latlng'].apply(lambda x: x[1])\n",
      "hisdf = hisdf.drop('latlng', 1)"
     ],
     "language": "python",
     "metadata": {},
     "outputs": [],
     "prompt_number": 49
    },
    {
     "cell_type": "code",
     "collapsed": false,
     "input": [
      "hisdf.head()"
     ],
     "language": "python",
     "metadata": {},
     "outputs": [
      {
       "html": [
        "<div style=\"max-height:1000px;max-width:1500px;overflow:auto;\">\n",
        "<table border=\"1\" class=\"dataframe\">\n",
        "  <thead>\n",
        "    <tr style=\"text-align: right;\">\n",
        "      <th></th>\n",
        "      <th>altitude</th>\n",
        "      <th>distance</th>\n",
        "      <th>latlng</th>\n",
        "      <th>moving</th>\n",
        "      <th>time</th>\n",
        "      <th>velocity_smooth</th>\n",
        "      <th>watts</th>\n",
        "    </tr>\n",
        "  </thead>\n",
        "  <tbody>\n",
        "    <tr>\n",
        "      <th>0</th>\n",
        "      <td> 2105.4</td>\n",
        "      <td> 39255.5</td>\n",
        "      <td> [37.887191, -119.089613]</td>\n",
        "      <td> True</td>\n",
        "      <td> 4099</td>\n",
        "      <td> 10.7</td>\n",
        "      <td> 145</td>\n",
        "    </tr>\n",
        "    <tr>\n",
        "      <th>1</th>\n",
        "      <td> 2105.0</td>\n",
        "      <td> 39266.0</td>\n",
        "      <td> [37.887242, -119.089513]</td>\n",
        "      <td> True</td>\n",
        "      <td> 4100</td>\n",
        "      <td> 10.7</td>\n",
        "      <td> 210</td>\n",
        "    </tr>\n",
        "    <tr>\n",
        "      <th>2</th>\n",
        "      <td> 2104.8</td>\n",
        "      <td> 39276.3</td>\n",
        "      <td> [37.887294, -119.089415]</td>\n",
        "      <td> True</td>\n",
        "      <td> 4101</td>\n",
        "      <td> 10.6</td>\n",
        "      <td> 146</td>\n",
        "    </tr>\n",
        "    <tr>\n",
        "      <th>3</th>\n",
        "      <td> 2104.6</td>\n",
        "      <td> 39286.6</td>\n",
        "      <td> [37.887346, -119.089318]</td>\n",
        "      <td> True</td>\n",
        "      <td> 4102</td>\n",
        "      <td> 10.4</td>\n",
        "      <td> 159</td>\n",
        "    </tr>\n",
        "    <tr>\n",
        "      <th>4</th>\n",
        "      <td> 2104.6</td>\n",
        "      <td> 39297.6</td>\n",
        "      <td> [37.887401, -119.089214]</td>\n",
        "      <td> True</td>\n",
        "      <td> 4103</td>\n",
        "      <td> 10.5</td>\n",
        "      <td> 196</td>\n",
        "    </tr>\n",
        "  </tbody>\n",
        "</table>\n",
        "<p>5 rows \u00d7 7 columns</p>\n",
        "</div>"
       ],
       "metadata": {},
       "output_type": "pyout",
       "prompt_number": 85,
       "text": [
        "   altitude  distance                    latlng moving  time  velocity_smooth  \\\n",
        "0    2105.4   39255.5  [37.887191, -119.089613]   True  4099             10.7   \n",
        "1    2105.0   39266.0  [37.887242, -119.089513]   True  4100             10.7   \n",
        "2    2104.8   39276.3  [37.887294, -119.089415]   True  4101             10.6   \n",
        "3    2104.6   39286.6  [37.887346, -119.089318]   True  4102             10.4   \n",
        "4    2104.6   39297.6  [37.887401, -119.089214]   True  4103             10.5   \n",
        "\n",
        "   watts  \n",
        "0    145  \n",
        "1    210  \n",
        "2    146  \n",
        "3    159  \n",
        "4    196  \n",
        "\n",
        "[5 rows x 7 columns]"
       ]
      }
     ],
     "prompt_number": 85
    },
    {
     "cell_type": "code",
     "collapsed": false,
     "input": [
      "mydf.shape, hisdf.shape"
     ],
     "language": "python",
     "metadata": {},
     "outputs": [
      {
       "metadata": {},
       "output_type": "pyout",
       "prompt_number": 57,
       "text": [
        "((3201, 6), (2223, 7))"
       ]
      }
     ],
     "prompt_number": 57
    },
    {
     "cell_type": "code",
     "collapsed": false,
     "input": [
      "dist_gap = hisdf['distance'].iloc[0] - mydf['distance'].iloc[0]\n",
      "print dist_gap\n",
      "plt.plot(mydf['distance'], mydf['velocity_smooth'])\n",
      "plt.plot(hisdf['distance'] - dist_gap, hisdf['velocity_smooth'])\n",
      "# plt.plot((hisdf['distance'] - dist_gap), mydf['velocity_smooth'] / hisdf['velocity_smooth'])"
     ],
     "language": "python",
     "metadata": {},
     "outputs": [
      {
       "output_type": "stream",
       "stream": "stdout",
       "text": [
        "39135.6\n"
       ]
      },
      {
       "metadata": {},
       "output_type": "pyout",
       "prompt_number": 68,
       "text": [
        "[<matplotlib.lines.Line2D at 0x7f819d092350>]"
       ]
      },
      {
       "metadata": {},
       "output_type": "display_data",
       "png": "[encoded data removed]",
       "text": [
        "<matplotlib.figure.Figure at 0x7f819d163850>"
       ]
      }
     ],
     "prompt_number": 68
    },
    {
     "cell_type": "code",
     "collapsed": false,
     "input": [
      "mydf['velocity_smooth'].shape, hisdf['velocity_smooth'].shape"
     ],
     "language": "python",
     "metadata": {},
     "outputs": [
      {
       "metadata": {},
       "output_type": "pyout",
       "prompt_number": 72,
       "text": [
        "((3201,), (2223,))"
       ]
      }
     ],
     "prompt_number": 72
    },
    {
     "cell_type": "code",
     "collapsed": false,
     "input": [],
     "language": "python",
     "metadata": {},
     "outputs": []
    }
   ],
   "metadata": {}
  }
 ]
}