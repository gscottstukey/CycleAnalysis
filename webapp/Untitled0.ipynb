{
 "metadata": {
  "name": "",
  "signature": "sha256:6d49d6731771a8ae8ed26ef5335465572e8b6dbbfaa9bc21c75ed4a40efae397"
 },
 "nbformat": 3,
 "nbformat_minor": 0,
 "worksheets": [
  {
   "cells": [
    {
     "cell_type": "code",
     "collapsed": false,
     "input": [
      "%load_ext autoreload\n",
      "%autoreload 2"
     ],
     "language": "python",
     "metadata": {},
     "outputs": []
    },
    {
     "cell_type": "code",
     "collapsed": false,
     "input": [
      "import pandas as pd\n",
      "import numpy as np\n",
      "import matplotlib.pyplot as plt\n",
      "from StravaUser import StravaUser\n",
      "from StravaModel import StravaModel\n",
      "from StravaEffort import StravaActivity\n",
      "from sklearn.ensemble import GradientBoostingRegressor, RandomForestRegressor, AdaBoostRegressor\n",
      "from sklearn.svm import SVR\n",
      "from sklearn.linear_model import LinearRegression, BayesianRidge\n",
      "from sklearn.cross_validation import cross_val_score, train_test_split\n",
      "from sklearn.preprocessing import StandardScaler, PolynomialFeatures\n",
      "from sklearn.metrics import r2_score\n",
      "from SignalProc import smooth\n",
      "import pickle\n",
      "%matplotlib inline"
     ],
     "language": "python",
     "metadata": {},
     "outputs": []
    },
    {
     "cell_type": "code",
     "collapsed": false,
     "input": [],
     "language": "python",
     "metadata": {},
     "outputs": []
    }
   ],
   "metadata": {}
  }
 ]
}