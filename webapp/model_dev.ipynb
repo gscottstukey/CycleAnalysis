{
 "metadata": {
  "name": "",
  "signature": "sha256:4fe0403a2ac5b50292ffbcda4d0ae62ff2e3abc8dc527c4ab8029f51db964504"
 },
 "nbformat": 3,
 "nbformat_minor": 0,
 "worksheets": [
  {
   "cells": [
    {
     "cell_type": "code",
     "collapsed": false,
     "input": [
      "%load_ext autoreload\n",
      "%autoreload 2"
     ],
     "language": "python",
     "metadata": {},
     "outputs": [],
     "prompt_number": 1
    },
    {
     "cell_type": "code",
     "collapsed": false,
     "input": [
      "import pandas as pd\n",
      "import numpy as np\n",
      "import matplotlib.pyplot as plt\n",
      "from StravaUser import StravaUser\n",
      "from StravaModel import StravaModel\n",
      "from StravaEffort import StravaActivity\n",
      "from sklearn.ensemble import GradientBoostingRegressor, RandomForestRegressor, AdaBoostRegressor\n",
      "from sklearn.svm import SVR\n",
      "from sklearn.linear_model import LinearRegression\n",
      "from sklearn.cross_validation import cross_val_score, train_test_split\n",
      "from sklearn.preprocessing import StandardScaler\n",
      "from SignalProc import smooth\n",
      "%matplotlib inline"
     ],
     "language": "python",
     "metadata": {},
     "outputs": [],
     "prompt_number": 276
    },
    {
     "cell_type": "code",
     "collapsed": false,
     "input": [
      "uid = 4478600\n",
      "user = StravaUser(uid, get_streams=True)"
     ],
     "language": "python",
     "metadata": {},
     "outputs": [
      {
       "output_type": "stream",
       "stream": "stdout",
       "text": [
        "130962018\n",
        "131681488"
       ]
      },
      {
       "output_type": "stream",
       "stream": "stdout",
       "text": [
        "\n",
        "132009107"
       ]
      },
      {
       "output_type": "stream",
       "stream": "stdout",
       "text": [
        "\n",
        "133080201"
       ]
      },
      {
       "output_type": "stream",
       "stream": "stdout",
       "text": [
        "\n",
        "133447892"
       ]
      },
      {
       "output_type": "stream",
       "stream": "stdout",
       "text": [
        "\n",
        "134934515"
       ]
      },
      {
       "output_type": "stream",
       "stream": "stdout",
       "text": [
        "\n",
        "135921721"
       ]
      },
      {
       "output_type": "stream",
       "stream": "stdout",
       "text": [
        "\n",
        "136373866"
       ]
      },
      {
       "output_type": "stream",
       "stream": "stdout",
       "text": [
        "\n",
        "137071333"
       ]
      },
      {
       "output_type": "stream",
       "stream": "stdout",
       "text": [
        "\n",
        "137869212"
       ]
      },
      {
       "output_type": "stream",
       "stream": "stdout",
       "text": [
        "\n",
        "138350363"
       ]
      },
      {
       "output_type": "stream",
       "stream": "stdout",
       "text": [
        "\n",
        "138613712"
       ]
      },
      {
       "output_type": "stream",
       "stream": "stdout",
       "text": [
        "\n",
        "139664028"
       ]
      },
      {
       "output_type": "stream",
       "stream": "stdout",
       "text": [
        "\n",
        "140051885"
       ]
      },
      {
       "output_type": "stream",
       "stream": "stdout",
       "text": [
        "\n",
        "140741582"
       ]
      },
      {
       "output_type": "stream",
       "stream": "stdout",
       "text": [
        "\n",
        "141146793"
       ]
      },
      {
       "output_type": "stream",
       "stream": "stdout",
       "text": [
        "\n",
        "142269399"
       ]
      },
      {
       "output_type": "stream",
       "stream": "stdout",
       "text": [
        "\n",
        "144011828"
       ]
      },
      {
       "output_type": "stream",
       "stream": "stdout",
       "text": [
        "\n",
        "146293435"
       ]
      },
      {
       "output_type": "stream",
       "stream": "stdout",
       "text": [
        "\n",
        "147829649"
       ]
      },
      {
       "output_type": "stream",
       "stream": "stdout",
       "text": [
        "\n",
        "151941590"
       ]
      },
      {
       "output_type": "stream",
       "stream": "stdout",
       "text": [
        "\n",
        "152375811"
       ]
      },
      {
       "output_type": "stream",
       "stream": "stdout",
       "text": [
        "\n",
        "156289166"
       ]
      },
      {
       "output_type": "stream",
       "stream": "stdout",
       "text": [
        "\n",
        "158769420"
       ]
      },
      {
       "output_type": "stream",
       "stream": "stdout",
       "text": [
        "\n",
        "163393958"
       ]
      },
      {
       "output_type": "stream",
       "stream": "stdout",
       "text": [
        "\n",
        "165639654"
       ]
      },
      {
       "output_type": "stream",
       "stream": "stdout",
       "text": [
        "\n",
        "166515026"
       ]
      },
      {
       "output_type": "stream",
       "stream": "stdout",
       "text": [
        "\n",
        "166812961"
       ]
      },
      {
       "output_type": "stream",
       "stream": "stdout",
       "text": [
        "\n",
        "167676376"
       ]
      },
      {
       "output_type": "stream",
       "stream": "stdout",
       "text": [
        "\n",
        "176449272"
       ]
      },
      {
       "output_type": "stream",
       "stream": "stdout",
       "text": [
        "\n",
        "176801122"
       ]
      },
      {
       "output_type": "stream",
       "stream": "stdout",
       "text": [
        "\n",
        "177940571"
       ]
      },
      {
       "output_type": "stream",
       "stream": "stdout",
       "text": [
        "\n",
        "179453108"
       ]
      },
      {
       "output_type": "stream",
       "stream": "stdout",
       "text": [
        "\n",
        "179902762"
       ]
      },
      {
       "output_type": "stream",
       "stream": "stdout",
       "text": [
        "\n",
        "181190297"
       ]
      },
      {
       "output_type": "stream",
       "stream": "stdout",
       "text": [
        "\n",
        "181712145"
       ]
      },
      {
       "output_type": "stream",
       "stream": "stdout",
       "text": [
        "\n",
        "183042679"
       ]
      },
      {
       "output_type": "stream",
       "stream": "stdout",
       "text": [
        "\n",
        "184385193"
       ]
      },
      {
       "output_type": "stream",
       "stream": "stdout",
       "text": [
        "\n",
        "185852417"
       ]
      },
      {
       "output_type": "stream",
       "stream": "stdout",
       "text": [
        "\n",
        "186194042"
       ]
      },
      {
       "output_type": "stream",
       "stream": "stdout",
       "text": [
        "\n",
        "186634014"
       ]
      },
      {
       "output_type": "stream",
       "stream": "stdout",
       "text": [
        "\n",
        "188964770"
       ]
      },
      {
       "output_type": "stream",
       "stream": "stdout",
       "text": [
        "\n",
        "189428156"
       ]
      },
      {
       "output_type": "stream",
       "stream": "stdout",
       "text": [
        "\n",
        "190850178"
       ]
      },
      {
       "output_type": "stream",
       "stream": "stdout",
       "text": [
        "\n",
        "219617830"
       ]
      },
      {
       "output_type": "stream",
       "stream": "stdout",
       "text": [
        "\n"
       ]
      }
     ],
     "prompt_number": 151
    },
    {
     "cell_type": "code",
     "collapsed": false,
     "input": [
      "a = StravaActivity(130962018, get_streams=True)\n",
      "a.df.head()"
     ],
     "language": "python",
     "metadata": {},
     "outputs": [
      {
       "html": [
        "<div style=\"max-height:1000px;max-width:1500px;overflow:auto;\">\n",
        "<table border=\"1\" class=\"dataframe\">\n",
        "  <thead>\n",
        "    <tr style=\"text-align: right;\">\n",
        "      <th></th>\n",
        "      <th>activity_id</th>\n",
        "      <th>athlete_id</th>\n",
        "      <th>time</th>\n",
        "      <th>distance</th>\n",
        "      <th>velocity</th>\n",
        "      <th>grade</th>\n",
        "      <th>altitude</th>\n",
        "      <th>latitude</th>\n",
        "      <th>longitude</th>\n",
        "    </tr>\n",
        "  </thead>\n",
        "  <tbody>\n",
        "    <tr>\n",
        "      <th>0</th>\n",
        "      <td> 130962018</td>\n",
        "      <td> 4478600</td>\n",
        "      <td> 4407.000000</td>\n",
        "      <td>  6.500000</td>\n",
        "      <td> 0.200000</td>\n",
        "      <td>-0.700000</td>\n",
        "      <td> 1464.100000</td>\n",
        "      <td> 38.957235</td>\n",
        "      <td>-119.725329</td>\n",
        "    </tr>\n",
        "    <tr>\n",
        "      <th>1</th>\n",
        "      <td> 130962018</td>\n",
        "      <td> 4478600</td>\n",
        "      <td> 4408.015129</td>\n",
        "      <td> 10.262030</td>\n",
        "      <td> 1.206052</td>\n",
        "      <td>-0.698487</td>\n",
        "      <td> 1464.098487</td>\n",
        "      <td> 38.957200</td>\n",
        "      <td>-119.725323</td>\n",
        "    </tr>\n",
        "    <tr>\n",
        "      <th>2</th>\n",
        "      <td> 130962018</td>\n",
        "      <td> 4478600</td>\n",
        "      <td> 4409.030259</td>\n",
        "      <td> 14.414983</td>\n",
        "      <td> 1.609078</td>\n",
        "      <td>-0.600000</td>\n",
        "      <td> 1464.000000</td>\n",
        "      <td> 38.957164</td>\n",
        "      <td>-119.725316</td>\n",
        "    </tr>\n",
        "    <tr>\n",
        "      <th>3</th>\n",
        "      <td> 130962018</td>\n",
        "      <td> 4478600</td>\n",
        "      <td> 4410.045388</td>\n",
        "      <td> 18.299707</td>\n",
        "      <td> 1.909078</td>\n",
        "      <td>-0.600000</td>\n",
        "      <td> 1464.000000</td>\n",
        "      <td> 38.957129</td>\n",
        "      <td>-119.725307</td>\n",
        "    </tr>\n",
        "    <tr>\n",
        "      <th>4</th>\n",
        "      <td> 130962018</td>\n",
        "      <td> 4478600</td>\n",
        "      <td> 4411.060517</td>\n",
        "      <td> 22.784431</td>\n",
        "      <td> 2.221035</td>\n",
        "      <td>-0.593948</td>\n",
        "      <td> 1464.000000</td>\n",
        "      <td> 38.957090</td>\n",
        "      <td>-119.725297</td>\n",
        "    </tr>\n",
        "  </tbody>\n",
        "</table>\n",
        "<p>5 rows \u00d7 9 columns</p>\n",
        "</div>"
       ],
       "metadata": {},
       "output_type": "pyout",
       "prompt_number": 152,
       "text": [
        "   activity_id  athlete_id         time   distance  velocity     grade  \\\n",
        "0    130962018     4478600  4407.000000   6.500000  0.200000 -0.700000   \n",
        "1    130962018     4478600  4408.015129  10.262030  1.206052 -0.698487   \n",
        "2    130962018     4478600  4409.030259  14.414983  1.609078 -0.600000   \n",
        "3    130962018     4478600  4410.045388  18.299707  1.909078 -0.600000   \n",
        "4    130962018     4478600  4411.060517  22.784431  2.221035 -0.593948   \n",
        "\n",
        "      altitude   latitude   longitude  \n",
        "0  1464.100000  38.957235 -119.725329  \n",
        "1  1464.098487  38.957200 -119.725323  \n",
        "2  1464.000000  38.957164 -119.725316  \n",
        "3  1464.000000  38.957129 -119.725307  \n",
        "4  1464.000000  38.957090 -119.725297  \n",
        "\n",
        "[5 rows x 9 columns]"
       ]
      }
     ],
     "prompt_number": 152
    },
    {
     "cell_type": "code",
     "collapsed": false,
     "input": [
      "a = user.activities[0]\n",
      "a.df['time_int'] = np.append(np.diff(a.df['time']),0)\n",
      "a.df.head()"
     ],
     "language": "python",
     "metadata": {},
     "outputs": [
      {
       "html": [
        "<div style=\"max-height:1000px;max-width:1500px;overflow:auto;\">\n",
        "<table border=\"1\" class=\"dataframe\">\n",
        "  <thead>\n",
        "    <tr style=\"text-align: right;\">\n",
        "      <th></th>\n",
        "      <th>activity_id</th>\n",
        "      <th>athlete_id</th>\n",
        "      <th>time</th>\n",
        "      <th>distance</th>\n",
        "      <th>velocity</th>\n",
        "      <th>grade</th>\n",
        "      <th>altitude</th>\n",
        "      <th>latitude</th>\n",
        "      <th>longitude</th>\n",
        "      <th>time_int</th>\n",
        "    </tr>\n",
        "  </thead>\n",
        "  <tbody>\n",
        "    <tr>\n",
        "      <th>0</th>\n",
        "      <td> 130962018</td>\n",
        "      <td> 4478600</td>\n",
        "      <td> 4407.000000</td>\n",
        "      <td>  6.500000</td>\n",
        "      <td> 0.200000</td>\n",
        "      <td>-0.700000</td>\n",
        "      <td> 1464.100000</td>\n",
        "      <td> 38.957235</td>\n",
        "      <td>-119.725329</td>\n",
        "      <td> 1.015129</td>\n",
        "    </tr>\n",
        "    <tr>\n",
        "      <th>1</th>\n",
        "      <td> 130962018</td>\n",
        "      <td> 4478600</td>\n",
        "      <td> 4408.015129</td>\n",
        "      <td> 10.262030</td>\n",
        "      <td> 1.206052</td>\n",
        "      <td>-0.698487</td>\n",
        "      <td> 1464.098487</td>\n",
        "      <td> 38.957200</td>\n",
        "      <td>-119.725323</td>\n",
        "      <td> 1.015129</td>\n",
        "    </tr>\n",
        "    <tr>\n",
        "      <th>2</th>\n",
        "      <td> 130962018</td>\n",
        "      <td> 4478600</td>\n",
        "      <td> 4409.030259</td>\n",
        "      <td> 14.414983</td>\n",
        "      <td> 1.609078</td>\n",
        "      <td>-0.600000</td>\n",
        "      <td> 1464.000000</td>\n",
        "      <td> 38.957164</td>\n",
        "      <td>-119.725316</td>\n",
        "      <td> 1.015129</td>\n",
        "    </tr>\n",
        "    <tr>\n",
        "      <th>3</th>\n",
        "      <td> 130962018</td>\n",
        "      <td> 4478600</td>\n",
        "      <td> 4410.045388</td>\n",
        "      <td> 18.299707</td>\n",
        "      <td> 1.909078</td>\n",
        "      <td>-0.600000</td>\n",
        "      <td> 1464.000000</td>\n",
        "      <td> 38.957129</td>\n",
        "      <td>-119.725307</td>\n",
        "      <td> 1.015129</td>\n",
        "    </tr>\n",
        "    <tr>\n",
        "      <th>4</th>\n",
        "      <td> 130962018</td>\n",
        "      <td> 4478600</td>\n",
        "      <td> 4411.060517</td>\n",
        "      <td> 22.784431</td>\n",
        "      <td> 2.221035</td>\n",
        "      <td>-0.593948</td>\n",
        "      <td> 1464.000000</td>\n",
        "      <td> 38.957090</td>\n",
        "      <td>-119.725297</td>\n",
        "      <td> 1.015129</td>\n",
        "    </tr>\n",
        "  </tbody>\n",
        "</table>\n",
        "<p>5 rows \u00d7 10 columns</p>\n",
        "</div>"
       ],
       "metadata": {},
       "output_type": "pyout",
       "prompt_number": 153,
       "text": [
        "   activity_id  athlete_id         time   distance  velocity     grade  \\\n",
        "0    130962018     4478600  4407.000000   6.500000  0.200000 -0.700000   \n",
        "1    130962018     4478600  4408.015129  10.262030  1.206052 -0.698487   \n",
        "2    130962018     4478600  4409.030259  14.414983  1.609078 -0.600000   \n",
        "3    130962018     4478600  4410.045388  18.299707  1.909078 -0.600000   \n",
        "4    130962018     4478600  4411.060517  22.784431  2.221035 -0.593948   \n",
        "\n",
        "      altitude   latitude   longitude  time_int  \n",
        "0  1464.100000  38.957235 -119.725329  1.015129  \n",
        "1  1464.098487  38.957200 -119.725323  1.015129  \n",
        "2  1464.000000  38.957164 -119.725316  1.015129  \n",
        "3  1464.000000  38.957129 -119.725307  1.015129  \n",
        "4  1464.000000  38.957090 -119.725297  1.015129  \n",
        "\n",
        "[5 rows x 10 columns]"
       ]
      }
     ],
     "prompt_number": 153
    },
    {
     "cell_type": "code",
     "collapsed": false,
     "input": [
      "\n",
      "fig, ax = plt.subplots(1,1)\n",
      "ax.plot(a.df.distance, a.df.altitude)\n",
      "ax = ax.twinx()\n",
      "ax.grid(b=False)\n",
      "ax.plot(a.df.distance, a.df.time)\n",
      "print a.dt, a.name, a.moving_time, a.df.time.iloc[-1]"
     ],
     "language": "python",
     "metadata": {},
     "outputs": [
      {
       "output_type": "stream",
       "stream": "stdout",
       "text": [
        "2014-04-16 Lunch Ride 4165 8567.0\n"
       ]
      },
      {
       "metadata": {},
       "output_type": "display_data",
       "png": "[encoded data removed]",
       "text": [
        "<matplotlib.figure.Figure at 0x7f9e576c8590>"
       ]
      }
     ],
     "prompt_number": 156
    },
    {
     "cell_type": "code",
     "collapsed": false,
     "input": [
      "df = user.make_df((0, 30))"
     ],
     "language": "python",
     "metadata": {},
     "outputs": [],
     "prompt_number": 279
    },
    {
     "cell_type": "code",
     "collapsed": false,
     "input": [
      "df.head()"
     ],
     "language": "python",
     "metadata": {},
     "outputs": [
      {
       "html": [
        "<div style=\"max-height:1000px;max-width:1500px;overflow:auto;\">\n",
        "<table border=\"1\" class=\"dataframe\">\n",
        "  <thead>\n",
        "    <tr style=\"text-align: right;\">\n",
        "      <th></th>\n",
        "      <th>time</th>\n",
        "      <th>distance</th>\n",
        "      <th>grade_0</th>\n",
        "      <th>time_int</th>\n",
        "      <th>dist_int</th>\n",
        "      <th>climb</th>\n",
        "      <th>ride_difficulty</th>\n",
        "      <th>grade_3</th>\n",
        "      <th>grade_2</th>\n",
        "      <th>grade_1</th>\n",
        "      <th>grade_-1</th>\n",
        "      <th>grade_-2</th>\n",
        "      <th>grade_-3</th>\n",
        "    </tr>\n",
        "  </thead>\n",
        "  <tbody>\n",
        "    <tr>\n",
        "      <th>0</th>\n",
        "      <td> 0.000000</td>\n",
        "      <td>  0.000000</td>\n",
        "      <td>-0.649074</td>\n",
        "      <td> 1.015129</td>\n",
        "      <td> 3.762030</td>\n",
        "      <td> 0</td>\n",
        "      <td> 7811114.126333</td>\n",
        "      <td>-0.641130</td>\n",
        "      <td>-0.649074</td>\n",
        "      <td>-0.655402</td>\n",
        "      <td> 0.000000</td>\n",
        "      <td> 0.000000</td>\n",
        "      <td> 0.000000</td>\n",
        "    </tr>\n",
        "    <tr>\n",
        "      <th>1</th>\n",
        "      <td> 1.015129</td>\n",
        "      <td>  3.762030</td>\n",
        "      <td>-0.655402</td>\n",
        "      <td> 1.015129</td>\n",
        "      <td> 4.152953</td>\n",
        "      <td> 0</td>\n",
        "      <td> 7811114.126333</td>\n",
        "      <td>-0.660009</td>\n",
        "      <td>-0.641130</td>\n",
        "      <td>-0.649074</td>\n",
        "      <td>-0.649074</td>\n",
        "      <td> 0.000000</td>\n",
        "      <td> 0.000000</td>\n",
        "    </tr>\n",
        "    <tr>\n",
        "      <th>2</th>\n",
        "      <td> 2.030259</td>\n",
        "      <td>  7.914983</td>\n",
        "      <td>-0.649074</td>\n",
        "      <td> 1.015129</td>\n",
        "      <td> 3.884724</td>\n",
        "      <td> 0</td>\n",
        "      <td> 7811114.126333</td>\n",
        "      <td>-0.729577</td>\n",
        "      <td>-0.660009</td>\n",
        "      <td>-0.641130</td>\n",
        "      <td>-0.655402</td>\n",
        "      <td>-0.649074</td>\n",
        "      <td> 0.000000</td>\n",
        "    </tr>\n",
        "    <tr>\n",
        "      <th>3</th>\n",
        "      <td> 3.045388</td>\n",
        "      <td> 11.799707</td>\n",
        "      <td>-0.641130</td>\n",
        "      <td> 1.015129</td>\n",
        "      <td> 4.484724</td>\n",
        "      <td> 0</td>\n",
        "      <td> 7811114.126333</td>\n",
        "      <td>-0.856683</td>\n",
        "      <td>-0.729577</td>\n",
        "      <td>-0.660009</td>\n",
        "      <td>-0.649074</td>\n",
        "      <td>-0.655402</td>\n",
        "      <td>-0.649074</td>\n",
        "    </tr>\n",
        "    <tr>\n",
        "      <th>4</th>\n",
        "      <td> 4.060517</td>\n",
        "      <td> 16.284431</td>\n",
        "      <td>-0.660009</td>\n",
        "      <td> 1.015129</td>\n",
        "      <td> 4.778673</td>\n",
        "      <td> 0</td>\n",
        "      <td> 7811114.126333</td>\n",
        "      <td>-1.029847</td>\n",
        "      <td>-0.856683</td>\n",
        "      <td>-0.729577</td>\n",
        "      <td>-0.641130</td>\n",
        "      <td>-0.649074</td>\n",
        "      <td>-0.655402</td>\n",
        "    </tr>\n",
        "  </tbody>\n",
        "</table>\n",
        "<p>5 rows \u00d7 13 columns</p>\n",
        "</div>"
       ],
       "metadata": {},
       "output_type": "pyout",
       "prompt_number": 280,
       "text": [
        "       time   distance   grade_0  time_int  dist_int  climb  ride_difficulty  \\\n",
        "0  0.000000   0.000000 -0.649074  1.015129  3.762030      0   7811114.126333   \n",
        "1  1.015129   3.762030 -0.655402  1.015129  4.152953      0   7811114.126333   \n",
        "2  2.030259   7.914983 -0.649074  1.015129  3.884724      0   7811114.126333   \n",
        "3  3.045388  11.799707 -0.641130  1.015129  4.484724      0   7811114.126333   \n",
        "4  4.060517  16.284431 -0.660009  1.015129  4.778673      0   7811114.126333   \n",
        "\n",
        "    grade_3   grade_2   grade_1  grade_-1  grade_-2  grade_-3  \n",
        "0 -0.641130 -0.649074 -0.655402  0.000000  0.000000  0.000000  \n",
        "1 -0.660009 -0.641130 -0.649074 -0.649074  0.000000  0.000000  \n",
        "2 -0.729577 -0.660009 -0.641130 -0.655402 -0.649074  0.000000  \n",
        "3 -0.856683 -0.729577 -0.660009 -0.649074 -0.655402 -0.649074  \n",
        "4 -1.029847 -0.856683 -0.729577 -0.641130 -0.649074 -0.655402  \n",
        "\n",
        "[5 rows x 13 columns]"
       ]
      }
     ],
     "prompt_number": 280
    },
    {
     "cell_type": "code",
     "collapsed": false,
     "input": [
      "# model = RandomForestRegressor(n_estimators=7, max_depth=8)\n",
      "# model = LinearRegression()\n",
      "# model = SVR()\n",
      "# model = GradientBoostingRegressor()\n",
      "model = AdaBoostRegressor()"
     ],
     "language": "python",
     "metadata": {},
     "outputs": [],
     "prompt_number": 281
    },
    {
     "cell_type": "code",
     "collapsed": false,
     "input": [
      "y = df.pop('time_int')\n",
      "X = df.values"
     ],
     "language": "python",
     "metadata": {},
     "outputs": [],
     "prompt_number": 282
    },
    {
     "cell_type": "code",
     "collapsed": false,
     "input": [
      "X_train, X_test, y_train, y_test = train_test_split(X, y, test_size = 0.3)"
     ],
     "language": "python",
     "metadata": {},
     "outputs": [],
     "prompt_number": 283
    },
    {
     "cell_type": "code",
     "collapsed": false,
     "input": [
      "model.fit(X_train, y_train)"
     ],
     "language": "python",
     "metadata": {},
     "outputs": [
      {
       "metadata": {},
       "output_type": "pyout",
       "prompt_number": 284,
       "text": [
        "AdaBoostRegressor(base_estimator=DecisionTreeRegressor(compute_importances=None, criterion='mse', max_depth=3,\n",
        "           max_features=None, min_density=None, min_samples_leaf=1,\n",
        "           min_samples_split=2, random_state=None, splitter='best'),\n",
        "         learning_rate=1.0, loss='linear', n_estimators=50,\n",
        "         random_state=None)"
       ]
      }
     ],
     "prompt_number": 284
    },
    {
     "cell_type": "code",
     "collapsed": false,
     "input": [
      "sorted(zip(model.feature_importances_, df.columns), key=lambda x: x[0])"
     ],
     "language": "python",
     "metadata": {},
     "outputs": [
      {
       "metadata": {},
       "output_type": "pyout",
       "prompt_number": 285,
       "text": [
        "[(0.0, 'time'),\n",
        " (0.0, 'grade_0'),\n",
        " (0.0, 'grade_2'),\n",
        " (0.0, 'grade_1'),\n",
        " (0.0, 'grade_-1'),\n",
        " (0.0, 'grade_-2'),\n",
        " (0.0, 'grade_-3'),\n",
        " (0.0030928629188921144, 'grade_3'),\n",
        " (0.017976750607848879, 'climb'),\n",
        " (0.031635240393291325, 'distance'),\n",
        " (0.11306654360749915, 'dist_int'),\n",
        " (0.83422860247246877, 'ride_difficulty')]"
       ]
      }
     ],
     "prompt_number": 285
    },
    {
     "cell_type": "code",
     "collapsed": false,
     "input": [
      "predicted = model.predict(X_test)\n",
      "errors = (predicted - y_test) / (y_test+1e-6)\n",
      "plt.hist(np.where(errors > 1, 1, errors), bins=20)"
     ],
     "language": "python",
     "metadata": {},
     "outputs": [
      {
       "metadata": {},
       "output_type": "pyout",
       "prompt_number": 286,
       "text": [
        "(array([  6.42000000e+02,   8.29000000e+02,   2.89900000e+03,\n",
        "          1.30870000e+04,   2.27310000e+04,   0.00000000e+00,\n",
        "          0.00000000e+00,   0.00000000e+00,   0.00000000e+00,\n",
        "          0.00000000e+00,   0.00000000e+00,   0.00000000e+00,\n",
        "          0.00000000e+00,   0.00000000e+00,   0.00000000e+00,\n",
        "          0.00000000e+00,   0.00000000e+00,   0.00000000e+00,\n",
        "          0.00000000e+00,   1.10000000e+01]),\n",
        " array([-0.22595025, -0.16465274, -0.10335522, -0.04205771,  0.0192398 ,\n",
        "         0.08053731,  0.14183483,  0.20313234,  0.26442985,  0.32572736,\n",
        "         0.38702488,  0.44832239,  0.5096199 ,  0.57091741,  0.63221493,\n",
        "         0.69351244,  0.75480995,  0.81610746,  0.87740498,  0.93870249,  1.        ]),\n",
        " <a list of 20 Patch objects>)"
       ]
      },
      {
       "metadata": {},
       "output_type": "display_data",
       "png": "[encoded data removed]",
       "text": [
        "<matplotlib.figure.Figure at 0x7f9e4f6a7ad0>"
       ]
      }
     ],
     "prompt_number": 286
    },
    {
     "cell_type": "code",
     "collapsed": false,
     "input": [
      "# m = StravaModel(model)\n",
      "errors = []\n",
      "for idx, a in enumerate(user.activities):\n",
      "    df = a.make_df()\n",
      "#     print df.columns\n",
      "    y = df.pop('time_int')\n",
      "    X = df.values\n",
      "#     forecast, true, pred_time = m.predict_activity(a)\n",
      "    pred = model.predict(X)\n",
      "    error = (np.cumsum(pred)[-1]- a.moving_time) / a.moving_time\n",
      "    errors.append(error)\n",
      "    print error, a.name, a.dt, idx"
     ],
     "language": "python",
     "metadata": {},
     "outputs": [
      {
       "output_type": "stream",
       "stream": "stdout",
       "text": [
        "0.0115142954608 Lunch Ride 2014-04-16 0\n",
        "0.0149394116637 Afternoon Run 2014-04-18 1\n",
        "0.0051150127645"
       ]
      },
      {
       "output_type": "stream",
       "stream": "stdout",
       "text": [
        " Morning Ride 2014-04-19 2\n",
        "0.0100205730593 Lunch ride 2014-04-22 3\n",
        "0.0176297896111 Lunch Ride 2014-04-23 4\n",
        "0.0399799931584"
       ]
      },
      {
       "output_type": "stream",
       "stream": "stdout",
       "text": [
        " Emigrant Trail/Diamond Valley Road 2014-04-27 5\n",
        "0.0197459089024 Lunch Ride 2014-04-30 6\n",
        "0.00149538868502 Afternoon Ride 2014-05-01 7\n",
        "-0.0627217999399"
       ]
      },
      {
       "output_type": "stream",
       "stream": "stdout",
       "text": [
        " Lake Tahoe Loop 2014-05-03 8\n",
        "0.00455331364721 Lunch Ride 2014-05-05 9\n",
        "0.0202171447002 Evening Ride 2014-05-06 10\n",
        "0.0275055459568"
       ]
      },
      {
       "output_type": "stream",
       "stream": "stdout",
       "text": [
        " Lunch Ride 2014-05-07 11\n",
        "-0.0280553421918 Morning Ride 2014-05-10 12\n",
        "-0.0281464799881"
       ]
      },
      {
       "output_type": "stream",
       "stream": "stdout",
       "text": [
        " Lunch Ride 2014-05-11 13\n",
        "0.0227922739747 Lunch Ride 2014-05-13 14\n",
        "0.0131432005734 Lunch Ride 2014-05-14 15\n",
        "-0.0922483967311"
       ]
      },
      {
       "output_type": "stream",
       "stream": "stdout",
       "text": [
        " Kingsbury in the morning 2014-05-17 16\n",
        "0.0227015549791 Lunch Ride 2014-05-21 17\n",
        "0.0572882253365 Lunch Ride 2014-05-27 18\n",
        "-0.081631242857"
       ]
      },
      {
       "output_type": "stream",
       "stream": "stdout",
       "text": [
        " Morning Ride 2014-05-31 19\n",
        "0.0149013625114 Lunch Ride 2014-06-10 20\n",
        "0.00551888970985 Lunch Ride 2014-06-11 21\n",
        "-0.184246409991"
       ]
      },
      {
       "output_type": "stream",
       "stream": "stdout",
       "text": [
        " Morning Ride 2014-06-21 22\n",
        "-0.0117271137998 Lunch Ride 2014-06-27 23\n",
        "0.00433198882022 Lunch Ride 2014-07-08 24\n",
        "0.0230322545667"
       ]
      },
      {
       "output_type": "stream",
       "stream": "stdout",
       "text": [
        " Afternoon Ride 2014-07-13 25\n",
        "0.0751314565249 Evening Ride 2014-07-15 26\n",
        "0.023222199332 Lunch Ride 2014-07-16 27\n",
        "-0.170603275175 Lunch Ride 2014-07-18 28\n",
        "0.0212077596288"
       ]
      },
      {
       "output_type": "stream",
       "stream": "stdout",
       "text": [
        " Lunch Ride 2014-08-06 29\n",
        "0.073244595799 Morning Ride 2014-08-07 30\n",
        "-0.000312030129898"
       ]
      },
      {
       "output_type": "stream",
       "stream": "stdout",
       "text": [
        " Kingsbury Luther from home 2014-08-09 31\n",
        "0.077154174569 Evening Ride 2014-08-12 32\n",
        "0.0227951467443 Afternoon Ride 2014-08-13 33\n",
        "-0.0189038661633"
       ]
      },
      {
       "output_type": "stream",
       "stream": "stdout",
       "text": [
        " Mammoth training ride 2014-08-16 34\n",
        "-0.0797611899106 Kbury 2014-07-11 35\n",
        "0.0198418593571"
       ]
      },
      {
       "output_type": "stream",
       "stream": "stdout",
       "text": [
        " Lunch Ride 2014-08-20 36\n",
        "0.0441650292982 Tahoe loop 2014-08-23 37\n",
        "0.0640673174657"
       ]
      },
      {
       "output_type": "stream",
       "stream": "stdout",
       "text": [
        " Evening Ride 2014-08-26 38\n",
        "0.00529579418395 Lunch Ride 2014-08-27 39\n",
        "0.0149738926673 Lunch Ride 2014-08-28 40\n",
        "0.0579034913478"
       ]
      },
      {
       "output_type": "stream",
       "stream": "stdout",
       "text": [
        " Lunch Ride 2014-09-02 41\n",
        "0.00720422261879 Lunch Ride 2014-09-03 42\n",
        "-0.353578869918"
       ]
      },
      {
       "output_type": "stream",
       "stream": "stdout",
       "text": [
        " Morning Ride 2014-09-06 43\n",
        "-0.0290985996807 Lunch Ride 2014-11-15 44\n"
       ]
      }
     ],
     "prompt_number": 287
    },
    {
     "cell_type": "code",
     "collapsed": false,
     "input": [
      "plt.hist(errors, bins=20)"
     ],
     "language": "python",
     "metadata": {},
     "outputs": [
      {
       "metadata": {},
       "output_type": "pyout",
       "prompt_number": 288,
       "text": [
        "(array([  1.,   0.,   0.,   0.,   0.,   0.,   0.,   1.,   1.,   0.,   0.,\n",
        "          0.,   3.,   1.,   0.,   5.,  10.,  15.,   2.,   6.]),\n",
        " array([-0.35357887, -0.33204222, -0.31050557, -0.28896891, -0.26743226,\n",
        "        -0.24589561, -0.22435896, -0.2028223 , -0.18128565, -0.159749  ,\n",
        "        -0.13821235, -0.1166757 , -0.09513904, -0.07360239, -0.05206574,\n",
        "        -0.03052909, -0.00899243,  0.01254422,  0.03408087,  0.05561752,\n",
        "         0.07715417]),\n",
        " <a list of 20 Patch objects>)"
       ]
      },
      {
       "metadata": {},
       "output_type": "display_data",
       "png": "[encoded data removed]",
       "text": [
        "<matplotlib.figure.Figure at 0x7f9e57dbb890>"
       ]
      }
     ],
     "prompt_number": 288
    },
    {
     "cell_type": "code",
     "collapsed": false,
     "input": [
      "a = user.activities[43]\n",
      "df = a.make_df()\n",
      "y = df.pop('time_int')\n",
      "X = df.values\n",
      "pred = model.predict(X)\n",
      "error = (np.cumsum(pred)[-1] - a.moving_time) / a.moving_time"
     ],
     "language": "python",
     "metadata": {},
     "outputs": [],
     "prompt_number": 289
    },
    {
     "cell_type": "code",
     "collapsed": false,
     "input": [
      "fig, ax = plt.subplots(1,1, figsize=(15,12))\n",
      "ax.plot(a.df.distance, a.df.altitude)\n",
      "ax = ax.twinx()\n",
      "ax.plot(a.df.distance, np.cumsum(y), label='True')\n",
      "ax.plot(a.df.distance, np.cumsum(pred), label='Predict')\n",
      "ax.grid(b=False)\n",
      "ax.legend(loc='best')\n",
      "plt.title('Title: %s, Date: %s, Time: %0.2f, Predicted: %0.2f, Error: %s' % (a.name, a.dt, a.moving_time/3600., np.cumsum(pred)[-1]/3600., error))"
     ],
     "language": "python",
     "metadata": {},
     "outputs": [
      {
       "metadata": {},
       "output_type": "pyout",
       "prompt_number": 290,
       "text": [
        "<matplotlib.text.Text at 0x7f9e4ea015d0>"
       ]
      },
      {
       "metadata": {},
       "output_type": "display_data",
       "png": "[encoded data removed]",
       "text": [
        "<matplotlib.figure.Figure at 0x7f9e4eee3590>"
       ]
      }
     ],
     "prompt_number": 290
    },
    {
     "cell_type": "code",
     "collapsed": false,
     "input": [],
     "language": "python",
     "metadata": {},
     "outputs": []
    }
   ],
   "metadata": {}
  }
 ]
}