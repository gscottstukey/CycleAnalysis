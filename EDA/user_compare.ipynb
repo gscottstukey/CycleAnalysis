{
 "metadata": {
  "name": "",
  "signature": "sha256:3801f380afcaaeb747e9db4d617b5f245dfd191c2345db057d613f2b7b0af8d9"
 },
 "nbformat": 3,
 "nbformat_minor": 0,
 "worksheets": [
  {
   "cells": [
    {
     "cell_type": "code",
     "collapsed": false,
     "input": [
      "%load_ext autoreload\n",
      "%autoreload 2"
     ],
     "language": "python",
     "metadata": {},
     "outputs": [],
     "prompt_number": 1
    },
    {
     "cell_type": "code",
     "collapsed": false,
     "input": [
      "import gpxpy\n",
      "import matplotlib.pyplot as plt\n",
      "import pandas as pd\n",
      "import collections\n",
      "import numpy as np\n",
      "from StravaEffort import StravaActivity\n",
      "from sklearn.linear_model import LinearRegression, BayesianRidge\n",
      "from sklearn.ensemble import RandomForestRegressor, GradientBoostingRegressor, AdaBoostRegressor\n",
      "from StravaDB import StravaDB\n",
      "from StravaUser import StravaUser\n",
      "from SignalProc import smooth, vel_to_time\n",
      "from sklearn.cross_validation import cross_val_score, train_test_split\n",
      "import pickle\n",
      "from sklearn.grid_search import GridSearchCV\n",
      "%matplotlib inline"
     ],
     "language": "python",
     "metadata": {},
     "outputs": [],
     "prompt_number": 2
    },
    {
     "cell_type": "code",
     "collapsed": false,
     "input": [
      "seth = StravaUser(4478600)\n",
      "colleen = StravaUser(4496814)"
     ],
     "language": "python",
     "metadata": {},
     "outputs": [],
     "prompt_number": 3
    },
    {
     "cell_type": "code",
     "collapsed": false,
     "input": [
      "s_route = StravaActivity(152375811, 4478600, get_streams=True)"
     ],
     "language": "python",
     "metadata": {},
     "outputs": [],
     "prompt_number": 4
    },
    {
     "cell_type": "code",
     "collapsed": false,
     "input": [
      "s_route.df.head()"
     ],
     "language": "python",
     "metadata": {},
     "outputs": [
      {
       "html": [
        "<div style=\"max-height:1000px;max-width:1500px;overflow:auto;\">\n",
        "<table border=\"1\" class=\"dataframe\">\n",
        "  <thead>\n",
        "    <tr style=\"text-align: right;\">\n",
        "      <th></th>\n",
        "      <th>activity_id</th>\n",
        "      <th>athlete_id</th>\n",
        "      <th>time</th>\n",
        "      <th>distance</th>\n",
        "      <th>velocity</th>\n",
        "      <th>grade</th>\n",
        "      <th>altitude</th>\n",
        "      <th>latitude</th>\n",
        "      <th>longitude</th>\n",
        "    </tr>\n",
        "  </thead>\n",
        "  <tbody>\n",
        "    <tr>\n",
        "      <th>0</th>\n",
        "      <td> 152375811</td>\n",
        "      <td> 4478600</td>\n",
        "      <td> 3657.00000</td>\n",
        "      <td>  0.000000</td>\n",
        "      <td> 0.000000</td>\n",
        "      <td> 0.900000</td>\n",
        "      <td> 1464.1</td>\n",
        "      <td> 38.957355</td>\n",
        "      <td>-119.725352</td>\n",
        "    </tr>\n",
        "    <tr>\n",
        "      <th>1</th>\n",
        "      <td> 152375811</td>\n",
        "      <td> 4478600</td>\n",
        "      <td> 3658.00682</td>\n",
        "      <td>  7.513640</td>\n",
        "      <td> 0.012958</td>\n",
        "      <td> 0.000000</td>\n",
        "      <td> 1464.2</td>\n",
        "      <td> 38.957310</td>\n",
        "      <td>-119.725288</td>\n",
        "    </tr>\n",
        "    <tr>\n",
        "      <th>2</th>\n",
        "      <td> 152375811</td>\n",
        "      <td> 4478600</td>\n",
        "      <td> 3659.01364</td>\n",
        "      <td>  9.527280</td>\n",
        "      <td> 1.925916</td>\n",
        "      <td> 0.000000</td>\n",
        "      <td> 1464.2</td>\n",
        "      <td> 38.957295</td>\n",
        "      <td>-119.725275</td>\n",
        "    </tr>\n",
        "    <tr>\n",
        "      <th>3</th>\n",
        "      <td> 152375811</td>\n",
        "      <td> 4478600</td>\n",
        "      <td> 3660.02046</td>\n",
        "      <td> 14.740921</td>\n",
        "      <td> 0.600000</td>\n",
        "      <td>-0.607161</td>\n",
        "      <td> 1464.1</td>\n",
        "      <td> 38.957283</td>\n",
        "      <td>-119.725299</td>\n",
        "    </tr>\n",
        "    <tr>\n",
        "      <th>4</th>\n",
        "      <td> 152375811</td>\n",
        "      <td> 4478600</td>\n",
        "      <td> 3661.02728</td>\n",
        "      <td> 16.754561</td>\n",
        "      <td> 0.600000</td>\n",
        "      <td>-0.959548</td>\n",
        "      <td> 1464.1</td>\n",
        "      <td> 38.957265</td>\n",
        "      <td>-119.725305</td>\n",
        "    </tr>\n",
        "  </tbody>\n",
        "</table>\n",
        "<p>5 rows \u00d7 9 columns</p>\n",
        "</div>"
       ],
       "metadata": {},
       "output_type": "pyout",
       "prompt_number": 5,
       "text": [
        "   activity_id  athlete_id        time   distance  velocity     grade  \\\n",
        "0    152375811     4478600  3657.00000   0.000000  0.000000  0.900000   \n",
        "1    152375811     4478600  3658.00682   7.513640  0.012958  0.000000   \n",
        "2    152375811     4478600  3659.01364   9.527280  1.925916  0.000000   \n",
        "3    152375811     4478600  3660.02046  14.740921  0.600000 -0.607161   \n",
        "4    152375811     4478600  3661.02728  16.754561  0.600000 -0.959548   \n",
        "\n",
        "   altitude   latitude   longitude  \n",
        "0    1464.1  38.957355 -119.725352  \n",
        "1    1464.2  38.957310 -119.725288  \n",
        "2    1464.2  38.957295 -119.725275  \n",
        "3    1464.1  38.957283 -119.725299  \n",
        "4    1464.1  38.957265 -119.725305  \n",
        "\n",
        "[5 rows x 9 columns]"
       ]
      }
     ],
     "prompt_number": 5
    },
    {
     "cell_type": "code",
     "collapsed": false,
     "input": [
      "c_route = StravaActivity(152375811, colleen.userid, is_route=False, belongs_to='other', get_streams=True)"
     ],
     "language": "python",
     "metadata": {},
     "outputs": [
      {
       "output_type": "stream",
       "stream": "stdout",
       "text": [
        " SELECT id, athlete_id, start_dt, name, moving_time, city, fitness10, fitness30, frequency10, frequency30, total_elevation_gain, distance FROM activities WHERE id = 152375811\n",
        "            \n"
       ]
      }
     ],
     "prompt_number": 12
    },
    {
     "cell_type": "code",
     "collapsed": false,
     "input": [
      "c_route.df.head()"
     ],
     "language": "python",
     "metadata": {},
     "outputs": [
      {
       "html": [
        "<div style=\"max-height:1000px;max-width:1500px;overflow:auto;\">\n",
        "<table border=\"1\" class=\"dataframe\">\n",
        "  <thead>\n",
        "    <tr style=\"text-align: right;\">\n",
        "      <th></th>\n",
        "      <th>activity_id</th>\n",
        "      <th>athlete_id</th>\n",
        "      <th>time</th>\n",
        "      <th>distance</th>\n",
        "      <th>velocity</th>\n",
        "      <th>grade</th>\n",
        "      <th>altitude</th>\n",
        "      <th>latitude</th>\n",
        "      <th>longitude</th>\n",
        "    </tr>\n",
        "  </thead>\n",
        "  <tbody>\n",
        "    <tr>\n",
        "      <th>0</th>\n",
        "      <td> 152375811</td>\n",
        "      <td> 4478600</td>\n",
        "      <td>-1</td>\n",
        "      <td>  0.000000</td>\n",
        "      <td>-1</td>\n",
        "      <td> 0.900000</td>\n",
        "      <td> 1464.1</td>\n",
        "      <td> 38.957355</td>\n",
        "      <td>-119.725352</td>\n",
        "    </tr>\n",
        "    <tr>\n",
        "      <th>1</th>\n",
        "      <td> 152375811</td>\n",
        "      <td> 4478600</td>\n",
        "      <td>-2</td>\n",
        "      <td>  7.513640</td>\n",
        "      <td>-1</td>\n",
        "      <td> 0.000000</td>\n",
        "      <td> 1464.2</td>\n",
        "      <td> 38.957310</td>\n",
        "      <td>-119.725288</td>\n",
        "    </tr>\n",
        "    <tr>\n",
        "      <th>2</th>\n",
        "      <td> 152375811</td>\n",
        "      <td> 4478600</td>\n",
        "      <td>-3</td>\n",
        "      <td>  9.527280</td>\n",
        "      <td>-1</td>\n",
        "      <td> 0.000000</td>\n",
        "      <td> 1464.2</td>\n",
        "      <td> 38.957295</td>\n",
        "      <td>-119.725275</td>\n",
        "    </tr>\n",
        "    <tr>\n",
        "      <th>3</th>\n",
        "      <td> 152375811</td>\n",
        "      <td> 4478600</td>\n",
        "      <td>-4</td>\n",
        "      <td> 14.740921</td>\n",
        "      <td>-1</td>\n",
        "      <td>-0.607161</td>\n",
        "      <td> 1464.1</td>\n",
        "      <td> 38.957283</td>\n",
        "      <td>-119.725299</td>\n",
        "    </tr>\n",
        "    <tr>\n",
        "      <th>4</th>\n",
        "      <td> 152375811</td>\n",
        "      <td> 4478600</td>\n",
        "      <td>-5</td>\n",
        "      <td> 16.754561</td>\n",
        "      <td>-1</td>\n",
        "      <td>-0.959548</td>\n",
        "      <td> 1464.1</td>\n",
        "      <td> 38.957265</td>\n",
        "      <td>-119.725305</td>\n",
        "    </tr>\n",
        "  </tbody>\n",
        "</table>\n",
        "<p>5 rows \u00d7 9 columns</p>\n",
        "</div>"
       ],
       "metadata": {},
       "output_type": "pyout",
       "prompt_number": 13,
       "text": [
        "   activity_id  athlete_id  time   distance  velocity     grade  altitude  \\\n",
        "0    152375811     4478600    -1   0.000000        -1  0.900000    1464.1   \n",
        "1    152375811     4478600    -2   7.513640        -1  0.000000    1464.2   \n",
        "2    152375811     4478600    -3   9.527280        -1  0.000000    1464.2   \n",
        "3    152375811     4478600    -4  14.740921        -1 -0.607161    1464.1   \n",
        "4    152375811     4478600    -5  16.754561        -1 -0.959548    1464.1   \n",
        "\n",
        "    latitude   longitude  \n",
        "0  38.957355 -119.725352  \n",
        "1  38.957310 -119.725288  \n",
        "2  38.957295 -119.725275  \n",
        "3  38.957283 -119.725299  \n",
        "4  38.957265 -119.725305  \n",
        "\n",
        "[5 rows x 9 columns]"
       ]
      }
     ],
     "prompt_number": 13
    },
    {
     "cell_type": "code",
     "collapsed": false,
     "input": [
      "cmodel = pickle.load(open('model_%s.pkl' % colleen.userid, 'rb'))\n",
      "smodel = pickle.load(open('model_%s.pkl' % seth.userid, 'rb'))"
     ],
     "language": "python",
     "metadata": {},
     "outputs": [],
     "prompt_number": 14
    },
    {
     "cell_type": "code",
     "collapsed": false,
     "input": [
      "c_route.predict(cmodel[colleen.userid]['model'])\n",
      "s_route.predict(smodel[seth.userid]['model'])"
     ],
     "language": "python",
     "metadata": {},
     "outputs": [],
     "prompt_number": 15
    },
    {
     "cell_type": "code",
     "collapsed": false,
     "input": [
      "fig, ax = plt.subplots(1, 1)\n",
      "ax.plot(s_route.df.distance, s_route.df.altitude)\n",
      "ax = ax.twinx()\n",
      "ax.plot(s_route.df.distance, s_route.df.predicted_time)\n",
      "ax.plot(c_route.df.distance, c_route.df.predicted_time, c='r')\n",
      "plt.title('%s, %s' % (s_route.df.predicted_time.iloc[-1]/3600., c_route.df.predicted_time.iloc[-1]/3600.))"
     ],
     "language": "python",
     "metadata": {},
     "outputs": [
      {
       "metadata": {},
       "output_type": "pyout",
       "prompt_number": 16,
       "text": [
        "<matplotlib.text.Text at 0x7fbaa821b410>"
       ]
      },
      {
       "metadata": {},
       "output_type": "display_data",
       "png": "[encoded data removed]",
       "text": [
        "<matplotlib.figure.Figure at 0x7fbaa848e310>"
       ]
      }
     ],
     "prompt_number": 16
    },
    {
     "cell_type": "code",
     "collapsed": false,
     "input": [],
     "language": "python",
     "metadata": {},
     "outputs": []
    }
   ],
   "metadata": {}
  }
 ]
}