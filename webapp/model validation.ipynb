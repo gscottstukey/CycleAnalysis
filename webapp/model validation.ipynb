{
 "metadata": {
  "name": "",
  "signature": "sha256:9eac123236f6077ddb7986c75650006740b34d00a1d1a900a6d2afa7d2196b5e"
 },
 "nbformat": 3,
 "nbformat_minor": 0,
 "worksheets": [
  {
   "cells": [
    {
     "cell_type": "code",
     "collapsed": false,
     "input": [
      "%load_ext autoreload\n",
      "%autoreload 2"
     ],
     "language": "python",
     "metadata": {},
     "outputs": [],
     "prompt_number": 2
    },
    {
     "cell_type": "code",
     "collapsed": false,
     "input": [
      "import pandas as pd\n",
      "import numpy as np\n",
      "import matplotlib.pyplot as plt\n",
      "from StravaUser import StravaUser\n",
      "from StravaModel import StravaModel\n",
      "from StravaEffort import StravaActivity\n",
      "from sklearn.ensemble import GradientBoostingRegressor, RandomForestRegressor, AdaBoostRegressor\n",
      "from sklearn.svm import SVR\n",
      "from sklearn.linear_model import LinearRegression, BayesianRidge\n",
      "from sklearn.cross_validation import cross_val_score, train_test_split\n",
      "from sklearn.preprocessing import StandardScaler, PolynomialFeatures\n",
      "from sklearn.metrics import r2_score\n",
      "from SignalProc import smooth\n",
      "import pickle\n",
      "from datetime import datetime\n",
      "%matplotlib inline"
     ],
     "language": "python",
     "metadata": {},
     "outputs": [],
     "prompt_number": 3
    },
    {
     "cell_type": "code",
     "collapsed": false,
     "input": [
      "matt = StravaUser(1187361, get_streams=True, get_routes=False)\n",
      "ryan = StravaUser(6789642, get_streams=True, get_routes=False)\n",
      "seth = StravaUser(4478600, get_streams=True, get_routes=False)\n",
      "colleen = StravaUser(4496814, get_streams=True, get_routes=False)\n",
      "david = StravaUser(163628, get_streams=True, get_routes=False)"
     ],
     "language": "python",
     "metadata": {},
     "outputs": [],
     "prompt_number": 4
    },
    {
     "cell_type": "code",
     "collapsed": false,
     "input": [
      "df_ryan = ryan.make_df()\n",
      "df_matt = matt.make_df()\n",
      "df_seth = seth.make_df()\n",
      "df_colleen = colleen.make_df()\n",
      "df_david = david.make_df()"
     ],
     "language": "python",
     "metadata": {},
     "outputs": [],
     "prompt_number": 5
    },
    {
     "cell_type": "code",
     "collapsed": false,
     "input": [
      "users = [(ryan, df_ryan), (matt, df_matt), (seth, df_seth), (colleen, df_colleen)]"
     ],
     "language": "python",
     "metadata": {},
     "outputs": [],
     "prompt_number": 6
    },
    {
     "cell_type": "code",
     "collapsed": false,
     "input": [
      "for user in users:\n",
      "    indices = np.arange(len(user[0].activities))\n",
      "    if user[0].firstname == 'Ryan':\n",
      "        delete = [8, 12, 22, 24, 31, 37, 2, 33]\n",
      "        indices = np.delete(indices, delete)\n",
      "        train_indices = indices\n",
      "        test_indices = []\n",
      "    else:\n",
      "        delete = []\n",
      "        indices = np.delete(indices, delete)\n",
      "        train_indices = np.random.choice(indices, size=int(len(user[0].activities)*0.75), replace=False)\n",
      "        test_indices = np.setdiff1d(indices, train_indices)\n",
      "    \n",
      "    df = user[0].make_df(train_indices)\n",
      "    y = df['velocity'].values\n",
      "    cols = df.columns\n",
      "    X = df[cols[np.where(cols!='velocity')]].values\n",
      "    X_train, X_test, y_train, y_test = train_test_split(X, y, test_size = 0.3)\n",
      "    model = RandomForestRegressor(max_depth=20, min_samples_split=50)\n",
      "    model.fit(X_train, y_train)\n",
      "    d = {}\n",
      "    d[user[0].userid] = {'date': datetime.now(), 'model': model}\n",
      "    pickle.dump(d, open('model_%s.pkl' % user[0].userid, 'wb'))\n",
      "    "
     ],
     "language": "python",
     "metadata": {},
     "outputs": [
      {
       "ename": "KeyboardInterrupt",
       "evalue": "",
       "output_type": "pyerr",
       "traceback": [
        "\u001b[1;31m---------------------------------------------------------------------------\u001b[0m\n\u001b[1;31mKeyboardInterrupt\u001b[0m                         Traceback (most recent call last)",
        "\u001b[1;32m<ipython-input-7-f3fec24c771b>\u001b[0m in \u001b[0;36m<module>\u001b[1;34m()\u001b[0m\n\u001b[0;32m     18\u001b[0m     \u001b[0mX_train\u001b[0m\u001b[1;33m,\u001b[0m \u001b[0mX_test\u001b[0m\u001b[1;33m,\u001b[0m \u001b[0my_train\u001b[0m\u001b[1;33m,\u001b[0m \u001b[0my_test\u001b[0m \u001b[1;33m=\u001b[0m \u001b[0mtrain_test_split\u001b[0m\u001b[1;33m(\u001b[0m\u001b[0mX\u001b[0m\u001b[1;33m,\u001b[0m \u001b[0my\u001b[0m\u001b[1;33m,\u001b[0m \u001b[0mtest_size\u001b[0m \u001b[1;33m=\u001b[0m \u001b[1;36m0.3\u001b[0m\u001b[1;33m)\u001b[0m\u001b[1;33m\u001b[0m\u001b[0m\n\u001b[0;32m     19\u001b[0m     \u001b[0mmodel\u001b[0m \u001b[1;33m=\u001b[0m \u001b[0mRandomForestRegressor\u001b[0m\u001b[1;33m(\u001b[0m\u001b[0mmax_depth\u001b[0m\u001b[1;33m=\u001b[0m\u001b[1;36m20\u001b[0m\u001b[1;33m,\u001b[0m \u001b[0mmin_samples_split\u001b[0m\u001b[1;33m=\u001b[0m\u001b[1;36m50\u001b[0m\u001b[1;33m)\u001b[0m\u001b[1;33m\u001b[0m\u001b[0m\n\u001b[1;32m---> 20\u001b[1;33m     \u001b[0mmodel\u001b[0m\u001b[1;33m.\u001b[0m\u001b[0mfit\u001b[0m\u001b[1;33m(\u001b[0m\u001b[0mX_train\u001b[0m\u001b[1;33m,\u001b[0m \u001b[0my_train\u001b[0m\u001b[1;33m)\u001b[0m\u001b[1;33m\u001b[0m\u001b[0m\n\u001b[0m\u001b[0;32m     21\u001b[0m     \u001b[0md\u001b[0m \u001b[1;33m=\u001b[0m \u001b[1;33m{\u001b[0m\u001b[1;33m}\u001b[0m\u001b[1;33m\u001b[0m\u001b[0m\n\u001b[0;32m     22\u001b[0m     \u001b[0md\u001b[0m\u001b[1;33m[\u001b[0m\u001b[0muser\u001b[0m\u001b[1;33m[\u001b[0m\u001b[1;36m0\u001b[0m\u001b[1;33m]\u001b[0m\u001b[1;33m.\u001b[0m\u001b[0muserid\u001b[0m\u001b[1;33m]\u001b[0m \u001b[1;33m=\u001b[0m \u001b[1;33m{\u001b[0m\u001b[1;34m'date'\u001b[0m\u001b[1;33m:\u001b[0m \u001b[0mdatetime\u001b[0m\u001b[1;33m.\u001b[0m\u001b[0mnow\u001b[0m\u001b[1;33m(\u001b[0m\u001b[1;33m)\u001b[0m\u001b[1;33m,\u001b[0m \u001b[1;34m'model'\u001b[0m\u001b[1;33m:\u001b[0m \u001b[0mmodel\u001b[0m\u001b[1;33m}\u001b[0m\u001b[1;33m\u001b[0m\u001b[0m\n",
        "\u001b[1;32m/usr/local/lib/python2.7/dist-packages/sklearn/ensemble/forest.pyc\u001b[0m in \u001b[0;36mfit\u001b[1;34m(self, X, y, sample_weight)\u001b[0m\n\u001b[0;32m    277\u001b[0m                 \u001b[0msample_weight\u001b[0m\u001b[1;33m,\u001b[0m\u001b[1;33m\u001b[0m\u001b[0m\n\u001b[0;32m    278\u001b[0m                 verbose=self.verbose)\n\u001b[1;32m--> 279\u001b[1;33m             for i in range(n_jobs))\n\u001b[0m\u001b[0;32m    280\u001b[0m \u001b[1;33m\u001b[0m\u001b[0m\n\u001b[0;32m    281\u001b[0m         \u001b[1;31m# Reduce\u001b[0m\u001b[1;33m\u001b[0m\u001b[1;33m\u001b[0m\u001b[0m\n",
        "\u001b[1;32m/usr/local/lib/python2.7/dist-packages/sklearn/externals/joblib/parallel.pyc\u001b[0m in \u001b[0;36m__call__\u001b[1;34m(self, iterable)\u001b[0m\n\u001b[0;32m    651\u001b[0m             \u001b[0mself\u001b[0m\u001b[1;33m.\u001b[0m\u001b[0m_iterating\u001b[0m \u001b[1;33m=\u001b[0m \u001b[0mTrue\u001b[0m\u001b[1;33m\u001b[0m\u001b[0m\n\u001b[0;32m    652\u001b[0m             \u001b[1;32mfor\u001b[0m \u001b[0mfunction\u001b[0m\u001b[1;33m,\u001b[0m \u001b[0margs\u001b[0m\u001b[1;33m,\u001b[0m \u001b[0mkwargs\u001b[0m \u001b[1;32min\u001b[0m \u001b[0miterable\u001b[0m\u001b[1;33m:\u001b[0m\u001b[1;33m\u001b[0m\u001b[0m\n\u001b[1;32m--> 653\u001b[1;33m                 \u001b[0mself\u001b[0m\u001b[1;33m.\u001b[0m\u001b[0mdispatch\u001b[0m\u001b[1;33m(\u001b[0m\u001b[0mfunction\u001b[0m\u001b[1;33m,\u001b[0m \u001b[0margs\u001b[0m\u001b[1;33m,\u001b[0m \u001b[0mkwargs\u001b[0m\u001b[1;33m)\u001b[0m\u001b[1;33m\u001b[0m\u001b[0m\n\u001b[0m\u001b[0;32m    654\u001b[0m \u001b[1;33m\u001b[0m\u001b[0m\n\u001b[0;32m    655\u001b[0m             \u001b[1;32mif\u001b[0m \u001b[0mpre_dispatch\u001b[0m \u001b[1;33m==\u001b[0m \u001b[1;34m\"all\"\u001b[0m \u001b[1;32mor\u001b[0m \u001b[0mn_jobs\u001b[0m \u001b[1;33m==\u001b[0m \u001b[1;36m1\u001b[0m\u001b[1;33m:\u001b[0m\u001b[1;33m\u001b[0m\u001b[0m\n",
        "\u001b[1;32m/usr/local/lib/python2.7/dist-packages/sklearn/externals/joblib/parallel.pyc\u001b[0m in \u001b[0;36mdispatch\u001b[1;34m(self, func, args, kwargs)\u001b[0m\n\u001b[0;32m    398\u001b[0m         \"\"\"\n\u001b[0;32m    399\u001b[0m         \u001b[1;32mif\u001b[0m \u001b[0mself\u001b[0m\u001b[1;33m.\u001b[0m\u001b[0m_pool\u001b[0m \u001b[1;32mis\u001b[0m \u001b[0mNone\u001b[0m\u001b[1;33m:\u001b[0m\u001b[1;33m\u001b[0m\u001b[0m\n\u001b[1;32m--> 400\u001b[1;33m             \u001b[0mjob\u001b[0m \u001b[1;33m=\u001b[0m \u001b[0mImmediateApply\u001b[0m\u001b[1;33m(\u001b[0m\u001b[0mfunc\u001b[0m\u001b[1;33m,\u001b[0m \u001b[0margs\u001b[0m\u001b[1;33m,\u001b[0m \u001b[0mkwargs\u001b[0m\u001b[1;33m)\u001b[0m\u001b[1;33m\u001b[0m\u001b[0m\n\u001b[0m\u001b[0;32m    401\u001b[0m             \u001b[0mindex\u001b[0m \u001b[1;33m=\u001b[0m \u001b[0mlen\u001b[0m\u001b[1;33m(\u001b[0m\u001b[0mself\u001b[0m\u001b[1;33m.\u001b[0m\u001b[0m_jobs\u001b[0m\u001b[1;33m)\u001b[0m\u001b[1;33m\u001b[0m\u001b[0m\n\u001b[0;32m    402\u001b[0m             \u001b[1;32mif\u001b[0m \u001b[1;32mnot\u001b[0m \u001b[0m_verbosity_filter\u001b[0m\u001b[1;33m(\u001b[0m\u001b[0mindex\u001b[0m\u001b[1;33m,\u001b[0m \u001b[0mself\u001b[0m\u001b[1;33m.\u001b[0m\u001b[0mverbose\u001b[0m\u001b[1;33m)\u001b[0m\u001b[1;33m:\u001b[0m\u001b[1;33m\u001b[0m\u001b[0m\n",
        "\u001b[1;32m/usr/local/lib/python2.7/dist-packages/sklearn/externals/joblib/parallel.pyc\u001b[0m in \u001b[0;36m__init__\u001b[1;34m(self, func, args, kwargs)\u001b[0m\n\u001b[0;32m    136\u001b[0m         \u001b[1;31m# Don't delay the application, to avoid keeping the input\u001b[0m\u001b[1;33m\u001b[0m\u001b[1;33m\u001b[0m\u001b[0m\n\u001b[0;32m    137\u001b[0m         \u001b[1;31m# arguments in memory\u001b[0m\u001b[1;33m\u001b[0m\u001b[1;33m\u001b[0m\u001b[0m\n\u001b[1;32m--> 138\u001b[1;33m         \u001b[0mself\u001b[0m\u001b[1;33m.\u001b[0m\u001b[0mresults\u001b[0m \u001b[1;33m=\u001b[0m \u001b[0mfunc\u001b[0m\u001b[1;33m(\u001b[0m\u001b[1;33m*\u001b[0m\u001b[0margs\u001b[0m\u001b[1;33m,\u001b[0m \u001b[1;33m**\u001b[0m\u001b[0mkwargs\u001b[0m\u001b[1;33m)\u001b[0m\u001b[1;33m\u001b[0m\u001b[0m\n\u001b[0m\u001b[0;32m    139\u001b[0m \u001b[1;33m\u001b[0m\u001b[0m\n\u001b[0;32m    140\u001b[0m     \u001b[1;32mdef\u001b[0m \u001b[0mget\u001b[0m\u001b[1;33m(\u001b[0m\u001b[0mself\u001b[0m\u001b[1;33m)\u001b[0m\u001b[1;33m:\u001b[0m\u001b[1;33m\u001b[0m\u001b[0m\n",
        "\u001b[1;32m/usr/local/lib/python2.7/dist-packages/sklearn/ensemble/forest.pyc\u001b[0m in \u001b[0;36m_parallel_build_trees\u001b[1;34m(trees, forest, X, y, sample_weight, verbose)\u001b[0m\n\u001b[0;32m     87\u001b[0m             tree.fit(X, y,\n\u001b[0;32m     88\u001b[0m                      \u001b[0msample_weight\u001b[0m\u001b[1;33m=\u001b[0m\u001b[0mcurr_sample_weight\u001b[0m\u001b[1;33m,\u001b[0m\u001b[1;33m\u001b[0m\u001b[0m\n\u001b[1;32m---> 89\u001b[1;33m                      check_input=False)\n\u001b[0m\u001b[0;32m     90\u001b[0m \u001b[1;33m\u001b[0m\u001b[0m\n\u001b[0;32m     91\u001b[0m             \u001b[0mtree\u001b[0m\u001b[1;33m.\u001b[0m\u001b[0mindices_\u001b[0m \u001b[1;33m=\u001b[0m \u001b[0msample_counts\u001b[0m \u001b[1;33m>\u001b[0m \u001b[1;36m0.\u001b[0m\u001b[1;33m\u001b[0m\u001b[0m\n",
        "\u001b[1;32m/usr/local/lib/python2.7/dist-packages/sklearn/tree/tree.pyc\u001b[0m in \u001b[0;36mfit\u001b[1;34m(self, X, y, sample_mask, X_argsorted, check_input, sample_weight)\u001b[0m\n\u001b[0;32m    265\u001b[0m                                            max_leaf_nodes)\n\u001b[0;32m    266\u001b[0m \u001b[1;33m\u001b[0m\u001b[0m\n\u001b[1;32m--> 267\u001b[1;33m         \u001b[0mbuilder\u001b[0m\u001b[1;33m.\u001b[0m\u001b[0mbuild\u001b[0m\u001b[1;33m(\u001b[0m\u001b[0mself\u001b[0m\u001b[1;33m.\u001b[0m\u001b[0mtree_\u001b[0m\u001b[1;33m,\u001b[0m \u001b[0mX\u001b[0m\u001b[1;33m,\u001b[0m \u001b[0my\u001b[0m\u001b[1;33m,\u001b[0m \u001b[0msample_weight\u001b[0m\u001b[1;33m)\u001b[0m\u001b[1;33m\u001b[0m\u001b[0m\n\u001b[0m\u001b[0;32m    268\u001b[0m \u001b[1;33m\u001b[0m\u001b[0m\n\u001b[0;32m    269\u001b[0m         \u001b[1;32mif\u001b[0m \u001b[0mself\u001b[0m\u001b[1;33m.\u001b[0m\u001b[0mn_outputs_\u001b[0m \u001b[1;33m==\u001b[0m \u001b[1;36m1\u001b[0m\u001b[1;33m:\u001b[0m\u001b[1;33m\u001b[0m\u001b[0m\n",
        "\u001b[1;31mKeyboardInterrupt\u001b[0m: "
       ]
      }
     ],
     "prompt_number": 7
    },
    {
     "cell_type": "code",
     "collapsed": false,
     "input": [
      "model_matt = pickle.load(open('model_%s.pkl' % matt.userid, 'rb'))[matt.userid]['model']\n",
      "model_ryan = pickle.load(open('model_%s.pkl' % ryan.userid, 'rb'))[ryan.userid]['model']\n",
      "model_seth = pickle.load(open('model_%s.pkl' % seth.userid, 'rb'))[seth.userid]['model']\n",
      "model_colleen = pickle.load(open('model_%s.pkl' % colleen.userid, 'rb'))[colleen.userid]['model']\n",
      "# model_david = pickle.load(open('model_%s.pkl' % david.userid, 'rb'))[david.userid]['model']"
     ],
     "language": "python",
     "metadata": {},
     "outputs": [],
     "prompt_number": 8
    },
    {
     "cell_type": "code",
     "collapsed": false,
     "input": [
      "users = [(ryan, df_ryan, model_ryan), (matt, df_matt, model_matt), (seth, df_seth, model_seth), (colleen, df_colleen, model_colleen)]"
     ],
     "language": "python",
     "metadata": {},
     "outputs": [],
     "prompt_number": 9
    },
    {
     "cell_type": "code",
     "collapsed": false,
     "input": [
      "for user in users:\n",
      "    y = user[1].velocity.values\n",
      "    X = user[1][[col for col in user[1].columns if col != 'velocity']]\n",
      "    pred = user[2].predict(X)\n",
      "    print \"%s's R2: %s\" % (user[0].name, r2_score(y, pred))"
     ],
     "language": "python",
     "metadata": {},
     "outputs": [
      {
       "output_type": "stream",
       "stream": "stdout",
       "text": [
        "Ryan Taylor's R2: 0.818809577664\n",
        "Matthew Fabiano's R2: 0.779270354614"
       ]
      },
      {
       "output_type": "stream",
       "stream": "stdout",
       "text": [
        "\n",
        "Seth Hendrickson's R2: 0.843871187459"
       ]
      },
      {
       "output_type": "stream",
       "stream": "stdout",
       "text": [
        "\n",
        "Colleen Hendrickson's R2: 0.827036522601"
       ]
      },
      {
       "output_type": "stream",
       "stream": "stdout",
       "text": [
        "\n"
       ]
      }
     ],
     "prompt_number": 10
    },
    {
     "cell_type": "code",
     "collapsed": false,
     "input": [
      "d = {}\n",
      "for user in users:\n",
      "    d[user[0].firstname] = []\n",
      "    for a in user[0].activities:\n",
      "        df = a.make_df()\n",
      "        a.predict(user[2])\n",
      "        r2 = r2_score(a.df.velocity, a.df.predicted_velocity)\n",
      "        d[user[0].firstname].append(r2)\n",
      "        "
     ],
     "language": "python",
     "metadata": {},
     "outputs": [],
     "prompt_number": 11
    },
    {
     "cell_type": "code",
     "collapsed": false,
     "input": [
      "# from matpl\n",
      "fig, axs = plt.subplots(2,2, figsize=(15, 12), facecolor='black')\n",
      "for i, ax, in enumerate(axs.reshape(-1)):\n",
      "    r2 = d[users[i][0].firstname]\n",
      "    r2 = [x for x in r2 if x > 0]\n",
      "    ax.hist(d[users[i][0].firstname], label=users[i][0].firstname, bins=20)\n",
      "#     ax.set_ylim([0, 1])\n",
      "    ax.set_xlim([0, 1])\n",
      "    ax.set_ylabel('R2 Score')\n",
      "    ax.legend(prop={'size':16}, loc='best')\n",
      "    for item in ([ax.title, ax.xaxis.label, ax.yaxis.label] + ax.get_xticklabels() + ax.get_yticklabels()):\n",
      "        item.set_fontsize(16)\n",
      "        item.set_color('white')"
     ],
     "language": "python",
     "metadata": {},
     "outputs": [
      {
       "metadata": {},
       "output_type": "display_data",
       "png": "[encoded data removed]",
       "text": [
        "<matplotlib.figure.Figure at 0x7fbd3e013ed0>"
       ]
      }
     ],
     "prompt_number": 18
    },
    {
     "cell_type": "markdown",
     "metadata": {},
     "source": [
      "###Activity end error"
     ]
    },
    {
     "cell_type": "code",
     "collapsed": false,
     "input": [
      "error = {}\n",
      "for user in users:\n",
      "    errors = []\n",
      "    for idx, a in enumerate(user[0].activities):\n",
      "        df = a.make_df()\n",
      "        a.predict(user[2])\n",
      "        e = (a.df.predicted_time.iloc[-1] - a.moving_time) / a.moving_time\n",
      "        e = r2_score(df.velocity.values, a.df.predicted_velocity)\n",
      "        errors.append(e)\n",
      "        if e < 0.5:\n",
      "            print user[0].firstname, e, a, idx\n",
      "    error[user[0].firstname] = errors"
     ],
     "language": "python",
     "metadata": {},
     "outputs": [
      {
       "output_type": "stream",
       "stream": "stdout",
       "text": [
        "Ryan -1.33072702831 <3-man lunch attack, 2014-11-13 12:04:11, Petaluma, 34682.1> 7\n",
        "Ryan"
       ]
      },
      {
       "output_type": "stream",
       "stream": "stdout",
       "text": [
        " -0.564849766623 <Ride to the ride, 2014-12-14 10:24:36, Petaluma, 8195.2> 13\n",
        "Ryan"
       ]
      },
      {
       "output_type": "stream",
       "stream": "stdout",
       "text": [
        " 0.35495469086 <After work ride, 2015-01-21 15:47:06, Petaluma, 27336.2> 25\n",
        "Ryan -1.93114598209 <Super Bowl Rowl (solo), 2015-02-01 14:20:18, Petaluma, 45365.5> 26\n",
        "Ryan"
       ]
      },
      {
       "output_type": "stream",
       "stream": "stdout",
       "text": [
        " -0.821393078914 <Ridin, 2015-02-09 16:57:44, Petaluma, 15253.6> 29\n",
        "Ryan"
       ]
      },
      {
       "output_type": "stream",
       "stream": "stdout",
       "text": [
        " 0.165096090616 <Marin Rollin, 2015-02-14 09:15:00, San Rafael, 75559.1> 31\n",
        "Ryan"
       ]
      },
      {
       "output_type": "stream",
       "stream": "stdout",
       "text": [
        " -1.00447620323 <One-way ticket: SR to Petaluma, 2015-02-25 08:02:33, Santa Rosa, 20922.6> 39\n",
        "Ryan"
       ]
      },
      {
       "output_type": "stream",
       "stream": "stdout",
       "text": [
        " -0.0805152428554 <Trash can sprint, 2015-02-26 17:32:50, Petaluma, 2063.6> 41\n",
        "Ryan -0.764586887553 <Bici Sunday, 2015-03-01 09:42:15, Petaluma, 86859.8> 42\n",
        "Matthew"
       ]
      },
      {
       "output_type": "stream",
       "stream": "stdout",
       "text": [
        " 0.159124678885 <Carneros between storms, 2014-12-06 13:46:39, Sonoma, 55872.3> 0\n",
        "Matthew -0.21381281549 <Time for a cross bike, 2014-12-08 07:49:27, Sonoma, 40179.9> 1\n",
        "Matthew"
       ]
      },
      {
       "output_type": "stream",
       "stream": "stdout",
       "text": [
        " 0.384995944568 <PTL to SNM, 2014-12-23 07:58:27, Petaluma, 54275.8> 5\n",
        "Matthew"
       ]
      },
      {
       "output_type": "stream",
       "stream": "stdout",
       "text": [
        " -0.0954039029215 <Spinny spinny, 2015-02-10 15:05:36, Petaluma, 61561.7> 29\n",
        "Matthew 0.16053771242 <Soft pedal through the most beautiful valley anywhere, 2015-02-12 14:14:41, Petaluma, 30235.9> 30\n",
        "Seth"
       ]
      },
      {
       "output_type": "stream",
       "stream": "stdout",
       "text": [
        " 0.474802796504 <Lake Tahoe Loop, 2014-05-03 08:21:21, South Lake Tahoe, 116378.0> 8\n",
        "Colleen"
       ]
      },
      {
       "output_type": "stream",
       "stream": "stdout",
       "text": [
        " 0.457491292295 <Evening Ride, 2014-04-30 18:18:29, Gardnerville, 22102.2> 6\n",
        "Colleen"
       ]
      },
      {
       "output_type": "stream",
       "stream": "stdout",
       "text": [
        " 0.453066402111 <Morning Ride, 2014-05-03 08:21:24, South Lake Tahoe, 116098.0> 8\n",
        "Colleen"
       ]
      },
      {
       "output_type": "stream",
       "stream": "stdout",
       "text": [
        " -1.9243076991 <Morning Ride, 2014-08-07 06:33:25, Gardnerville, 24323.0> 23\n",
        "Colleen"
       ]
      },
      {
       "output_type": "stream",
       "stream": "stdout",
       "text": [
        " 0.0605041918311 <Afternoon Ride, 2014-12-13 13:40:55, Kirkwood, 1068.1> 40\n",
        "David"
       ]
      },
      {
       "output_type": "stream",
       "stream": "stdout",
       "text": [
        " 0.411233984431 <01/18/2015 Monterey, California, 2015-01-18 07:28:12, Monterey, 213995.0> 16\n",
        "David -0.902888181307 <01/22/2015 San Francisco, CA, 2015-01-22 17:28:19, San Francisco, 48603.6> 17\n",
        "David"
       ]
      },
      {
       "output_type": "stream",
       "stream": "stdout",
       "text": [
        " -0.356178472226 <01/25/2015 San Francisco, CA, 2015-01-25 07:42:01, San Francisco, 99015.2> 19\n",
        "David"
       ]
      },
      {
       "output_type": "stream",
       "stream": "stdout",
       "text": [
        " -1.35070409671 <02/07/2015 Waterford, California, 2015-02-07 08:51:22, Waterford, 147337.0> 25\n",
        "David -2.57935000287 <02/11/2015 San Francisco, California, 2015-02-11 18:19:36, San Francisco, 38737.6> 26\n",
        "David"
       ]
      },
      {
       "output_type": "stream",
       "stream": "stdout",
       "text": [
        " -2.14176233865 <02/18/2015 San Francisco, CA, 2015-02-18 18:36:43, San Francisco, 29689.5> 30\n",
        "David"
       ]
      },
      {
       "output_type": "stream",
       "stream": "stdout",
       "text": [
        " -2.04569810908 <03/01/2015 Chico, California, 2015-03-01 10:41:33, Chico, 27354.0> 33\n",
        "David"
       ]
      },
      {
       "output_type": "stream",
       "stream": "stdout",
       "text": [
        " -0.0615622598635 <03/01/2015 Chico, California, 2015-03-01 15:37:34, Chico, 46772.3> 34\n",
        "David"
       ]
      },
      {
       "output_type": "stream",
       "stream": "stdout",
       "text": [
        " -1.47294642883 <02/28/2015 Corning, California, 2015-02-28 09:10:28, Corning, 146434.0> 35\n",
        "David"
       ]
      },
      {
       "output_type": "stream",
       "stream": "stdout",
       "text": [
        " -1.2473922216 <MTB under the moon light... and crashing into blackberry bushes, 2015-03-03 16:20:39, San Francisco, 50878.2> 36\n"
       ]
      }
     ],
     "prompt_number": 56
    },
    {
     "cell_type": "code",
     "collapsed": false,
     "input": [
      "user = users[0]\n",
      "a = user[0].activities[4]\n",
      "a.predict(user[2])\n",
      "fig, ax = plt.subplots(1, 1, figsize=(15, 12))\n",
      "ax.plot(a.df.distance, smooth(a.df.grade, 'scipy', 50), c='r')\n",
      "ax = ax.twinx()\n",
      "ax.grid(b=False)\n",
      "ax.plot(a.df.distance, a.df.velocity)\n",
      "ax.plot(a.df.distance, a.df.predicted_velocity)\n",
      "g = np.diff(a.df.altitude) * 100 / np.diff(a.df.distance)\n",
      "g = np.append(g, 0)\n",
      "# ax.plot(a.df.distance, smooth(g, 'scipy', 50))\n",
      "# ax.plot(a.df.distance, smooth(a.df.grade, 'scipy', 50))"
     ],
     "language": "python",
     "metadata": {},
     "outputs": [
      {
       "ename": "ValueError",
       "evalue": "Number of features of the model must  match the input. Model n_features is 11 and  input n_features is 8 ",
       "output_type": "pyerr",
       "traceback": [
        "\u001b[1;31m---------------------------------------------------------------------------\u001b[0m\n\u001b[1;31mValueError\u001b[0m                                Traceback (most recent call last)",
        "\u001b[1;32m<ipython-input-7-f0332ca67f90>\u001b[0m in \u001b[0;36m<module>\u001b[1;34m()\u001b[0m\n\u001b[0;32m      1\u001b[0m \u001b[0muser\u001b[0m \u001b[1;33m=\u001b[0m \u001b[0musers\u001b[0m\u001b[1;33m[\u001b[0m\u001b[1;36m0\u001b[0m\u001b[1;33m]\u001b[0m\u001b[1;33m\u001b[0m\u001b[0m\n\u001b[0;32m      2\u001b[0m \u001b[0ma\u001b[0m \u001b[1;33m=\u001b[0m \u001b[0muser\u001b[0m\u001b[1;33m[\u001b[0m\u001b[1;36m0\u001b[0m\u001b[1;33m]\u001b[0m\u001b[1;33m.\u001b[0m\u001b[0mactivities\u001b[0m\u001b[1;33m[\u001b[0m\u001b[1;36m4\u001b[0m\u001b[1;33m]\u001b[0m\u001b[1;33m\u001b[0m\u001b[0m\n\u001b[1;32m----> 3\u001b[1;33m \u001b[0ma\u001b[0m\u001b[1;33m.\u001b[0m\u001b[0mpredict\u001b[0m\u001b[1;33m(\u001b[0m\u001b[0muser\u001b[0m\u001b[1;33m[\u001b[0m\u001b[1;36m2\u001b[0m\u001b[1;33m]\u001b[0m\u001b[1;33m)\u001b[0m\u001b[1;33m\u001b[0m\u001b[0m\n\u001b[0m\u001b[0;32m      4\u001b[0m \u001b[0mfig\u001b[0m\u001b[1;33m,\u001b[0m \u001b[0max\u001b[0m \u001b[1;33m=\u001b[0m \u001b[0mplt\u001b[0m\u001b[1;33m.\u001b[0m\u001b[0msubplots\u001b[0m\u001b[1;33m(\u001b[0m\u001b[1;36m1\u001b[0m\u001b[1;33m,\u001b[0m \u001b[1;36m1\u001b[0m\u001b[1;33m,\u001b[0m \u001b[0mfigsize\u001b[0m\u001b[1;33m=\u001b[0m\u001b[1;33m(\u001b[0m\u001b[1;36m15\u001b[0m\u001b[1;33m,\u001b[0m \u001b[1;36m12\u001b[0m\u001b[1;33m)\u001b[0m\u001b[1;33m)\u001b[0m\u001b[1;33m\u001b[0m\u001b[0m\n\u001b[0;32m      5\u001b[0m \u001b[0max\u001b[0m\u001b[1;33m.\u001b[0m\u001b[0mplot\u001b[0m\u001b[1;33m(\u001b[0m\u001b[0ma\u001b[0m\u001b[1;33m.\u001b[0m\u001b[0mdf\u001b[0m\u001b[1;33m.\u001b[0m\u001b[0mdistance\u001b[0m\u001b[1;33m,\u001b[0m \u001b[0msmooth\u001b[0m\u001b[1;33m(\u001b[0m\u001b[0ma\u001b[0m\u001b[1;33m.\u001b[0m\u001b[0mdf\u001b[0m\u001b[1;33m.\u001b[0m\u001b[0mgrade\u001b[0m\u001b[1;33m,\u001b[0m \u001b[1;34m'scipy'\u001b[0m\u001b[1;33m,\u001b[0m \u001b[1;36m50\u001b[0m\u001b[1;33m)\u001b[0m\u001b[1;33m,\u001b[0m \u001b[0mc\u001b[0m\u001b[1;33m=\u001b[0m\u001b[1;34m'r'\u001b[0m\u001b[1;33m)\u001b[0m\u001b[1;33m\u001b[0m\u001b[0m\n",
        "\u001b[1;32m/home/seth/Zipfian/CycleAnalysis/webapp/StravaEffort.pyc\u001b[0m in \u001b[0;36mpredict\u001b[1;34m(self, model)\u001b[0m\n\u001b[0;32m    192\u001b[0m         \u001b[0mdf\u001b[0m\u001b[1;33m.\u001b[0m\u001b[0mpop\u001b[0m\u001b[1;33m(\u001b[0m\u001b[1;34m'velocity'\u001b[0m\u001b[1;33m)\u001b[0m\u001b[1;33m\u001b[0m\u001b[0m\n\u001b[0;32m    193\u001b[0m         \u001b[0mX\u001b[0m \u001b[1;33m=\u001b[0m \u001b[0mdf\u001b[0m\u001b[1;33m.\u001b[0m\u001b[0mvalues\u001b[0m\u001b[1;33m\u001b[0m\u001b[0m\n\u001b[1;32m--> 194\u001b[1;33m         \u001b[0mpred\u001b[0m \u001b[1;33m=\u001b[0m \u001b[0mmodel\u001b[0m\u001b[1;33m.\u001b[0m\u001b[0mpredict\u001b[0m\u001b[1;33m(\u001b[0m\u001b[0mX\u001b[0m\u001b[1;33m)\u001b[0m\u001b[1;33m\u001b[0m\u001b[0m\n\u001b[0m\u001b[0;32m    195\u001b[0m         \u001b[0mself\u001b[0m\u001b[1;33m.\u001b[0m\u001b[0mdf\u001b[0m\u001b[1;33m[\u001b[0m\u001b[1;34m'predicted_velocity'\u001b[0m\u001b[1;33m]\u001b[0m \u001b[1;33m=\u001b[0m \u001b[0mpred\u001b[0m\u001b[1;33m\u001b[0m\u001b[0m\n\u001b[0;32m    196\u001b[0m         \u001b[0mself\u001b[0m\u001b[1;33m.\u001b[0m\u001b[0mdf\u001b[0m\u001b[1;33m[\u001b[0m\u001b[1;34m'predicted_time'\u001b[0m\u001b[1;33m]\u001b[0m \u001b[1;33m=\u001b[0m \u001b[0mvel_to_time\u001b[0m\u001b[1;33m(\u001b[0m\u001b[0mself\u001b[0m\u001b[1;33m.\u001b[0m\u001b[0mdf\u001b[0m\u001b[1;33m.\u001b[0m\u001b[0mpredicted_velocity\u001b[0m\u001b[1;33m,\u001b[0m \u001b[0mself\u001b[0m\u001b[1;33m.\u001b[0m\u001b[0mdf\u001b[0m\u001b[1;33m.\u001b[0m\u001b[0mdistance\u001b[0m\u001b[1;33m)\u001b[0m\u001b[1;33m\u001b[0m\u001b[0m\n",
        "\u001b[1;32m/usr/lib/python2.7/dist-packages/sklearn/ensemble/forest.pyc\u001b[0m in \u001b[0;36mpredict\u001b[1;34m(self, X)\u001b[0m\n\u001b[0;32m    594\u001b[0m             delayed(_parallel_predict_regression)(\n\u001b[0;32m    595\u001b[0m                 self.estimators_[starts[i]:starts[i + 1]], X)\n\u001b[1;32m--> 596\u001b[1;33m             for i in range(n_jobs))\n\u001b[0m\u001b[0;32m    597\u001b[0m \u001b[1;33m\u001b[0m\u001b[0m\n\u001b[0;32m    598\u001b[0m         \u001b[1;31m# Reduce\u001b[0m\u001b[1;33m\u001b[0m\u001b[1;33m\u001b[0m\u001b[0m\n",
        "\u001b[1;32m/usr/lib/pymodules/python2.7/joblib/parallel.pyc\u001b[0m in \u001b[0;36m__call__\u001b[1;34m(self, iterable)\u001b[0m\n\u001b[0;32m    515\u001b[0m         \u001b[1;32mtry\u001b[0m\u001b[1;33m:\u001b[0m\u001b[1;33m\u001b[0m\u001b[0m\n\u001b[0;32m    516\u001b[0m             \u001b[1;32mfor\u001b[0m \u001b[0mfunction\u001b[0m\u001b[1;33m,\u001b[0m \u001b[0margs\u001b[0m\u001b[1;33m,\u001b[0m \u001b[0mkwargs\u001b[0m \u001b[1;32min\u001b[0m \u001b[0miterable\u001b[0m\u001b[1;33m:\u001b[0m\u001b[1;33m\u001b[0m\u001b[0m\n\u001b[1;32m--> 517\u001b[1;33m                 \u001b[0mself\u001b[0m\u001b[1;33m.\u001b[0m\u001b[0mdispatch\u001b[0m\u001b[1;33m(\u001b[0m\u001b[0mfunction\u001b[0m\u001b[1;33m,\u001b[0m \u001b[0margs\u001b[0m\u001b[1;33m,\u001b[0m \u001b[0mkwargs\u001b[0m\u001b[1;33m)\u001b[0m\u001b[1;33m\u001b[0m\u001b[0m\n\u001b[0m\u001b[0;32m    518\u001b[0m \u001b[1;33m\u001b[0m\u001b[0m\n\u001b[0;32m    519\u001b[0m             \u001b[0mself\u001b[0m\u001b[1;33m.\u001b[0m\u001b[0mretrieve\u001b[0m\u001b[1;33m(\u001b[0m\u001b[1;33m)\u001b[0m\u001b[1;33m\u001b[0m\u001b[0m\n",
        "\u001b[1;32m/usr/lib/pymodules/python2.7/joblib/parallel.pyc\u001b[0m in \u001b[0;36mdispatch\u001b[1;34m(self, func, args, kwargs)\u001b[0m\n\u001b[0;32m    310\u001b[0m         \"\"\"\n\u001b[0;32m    311\u001b[0m         \u001b[1;32mif\u001b[0m \u001b[0mself\u001b[0m\u001b[1;33m.\u001b[0m\u001b[0m_pool\u001b[0m \u001b[1;32mis\u001b[0m \u001b[0mNone\u001b[0m\u001b[1;33m:\u001b[0m\u001b[1;33m\u001b[0m\u001b[0m\n\u001b[1;32m--> 312\u001b[1;33m             \u001b[0mjob\u001b[0m \u001b[1;33m=\u001b[0m \u001b[0mImmediateApply\u001b[0m\u001b[1;33m(\u001b[0m\u001b[0mfunc\u001b[0m\u001b[1;33m,\u001b[0m \u001b[0margs\u001b[0m\u001b[1;33m,\u001b[0m \u001b[0mkwargs\u001b[0m\u001b[1;33m)\u001b[0m\u001b[1;33m\u001b[0m\u001b[0m\n\u001b[0m\u001b[0;32m    313\u001b[0m             \u001b[0mindex\u001b[0m \u001b[1;33m=\u001b[0m \u001b[0mlen\u001b[0m\u001b[1;33m(\u001b[0m\u001b[0mself\u001b[0m\u001b[1;33m.\u001b[0m\u001b[0m_jobs\u001b[0m\u001b[1;33m)\u001b[0m\u001b[1;33m\u001b[0m\u001b[0m\n\u001b[0;32m    314\u001b[0m             \u001b[1;32mif\u001b[0m \u001b[1;32mnot\u001b[0m \u001b[0m_verbosity_filter\u001b[0m\u001b[1;33m(\u001b[0m\u001b[0mindex\u001b[0m\u001b[1;33m,\u001b[0m \u001b[0mself\u001b[0m\u001b[1;33m.\u001b[0m\u001b[0mverbose\u001b[0m\u001b[1;33m)\u001b[0m\u001b[1;33m:\u001b[0m\u001b[1;33m\u001b[0m\u001b[0m\n",
        "\u001b[1;32m/usr/lib/pymodules/python2.7/joblib/parallel.pyc\u001b[0m in \u001b[0;36m__init__\u001b[1;34m(self, func, args, kwargs)\u001b[0m\n\u001b[0;32m    134\u001b[0m         \u001b[1;31m# Don't delay the application, to avoid keeping the input\u001b[0m\u001b[1;33m\u001b[0m\u001b[1;33m\u001b[0m\u001b[0m\n\u001b[0;32m    135\u001b[0m         \u001b[1;31m# arguments in memory\u001b[0m\u001b[1;33m\u001b[0m\u001b[1;33m\u001b[0m\u001b[0m\n\u001b[1;32m--> 136\u001b[1;33m         \u001b[0mself\u001b[0m\u001b[1;33m.\u001b[0m\u001b[0mresults\u001b[0m \u001b[1;33m=\u001b[0m \u001b[0mfunc\u001b[0m\u001b[1;33m(\u001b[0m\u001b[1;33m*\u001b[0m\u001b[0margs\u001b[0m\u001b[1;33m,\u001b[0m \u001b[1;33m**\u001b[0m\u001b[0mkwargs\u001b[0m\u001b[1;33m)\u001b[0m\u001b[1;33m\u001b[0m\u001b[0m\n\u001b[0m\u001b[0;32m    137\u001b[0m \u001b[1;33m\u001b[0m\u001b[0m\n\u001b[0;32m    138\u001b[0m     \u001b[1;32mdef\u001b[0m \u001b[0mget\u001b[0m\u001b[1;33m(\u001b[0m\u001b[0mself\u001b[0m\u001b[1;33m)\u001b[0m\u001b[1;33m:\u001b[0m\u001b[1;33m\u001b[0m\u001b[0m\n",
        "\u001b[1;32m/usr/lib/python2.7/dist-packages/sklearn/ensemble/forest.pyc\u001b[0m in \u001b[0;36m_parallel_predict_regression\u001b[1;34m(trees, X)\u001b[0m\n\u001b[0;32m    149\u001b[0m \u001b[1;32mdef\u001b[0m \u001b[0m_parallel_predict_regression\u001b[0m\u001b[1;33m(\u001b[0m\u001b[0mtrees\u001b[0m\u001b[1;33m,\u001b[0m \u001b[0mX\u001b[0m\u001b[1;33m)\u001b[0m\u001b[1;33m:\u001b[0m\u001b[1;33m\u001b[0m\u001b[0m\n\u001b[0;32m    150\u001b[0m     \u001b[1;34m\"\"\"Private function used to compute a batch of predictions within a job.\"\"\"\u001b[0m\u001b[1;33m\u001b[0m\u001b[0m\n\u001b[1;32m--> 151\u001b[1;33m     \u001b[1;32mreturn\u001b[0m \u001b[0msum\u001b[0m\u001b[1;33m(\u001b[0m\u001b[0mtree\u001b[0m\u001b[1;33m.\u001b[0m\u001b[0mpredict\u001b[0m\u001b[1;33m(\u001b[0m\u001b[0mX\u001b[0m\u001b[1;33m)\u001b[0m \u001b[1;32mfor\u001b[0m \u001b[0mtree\u001b[0m \u001b[1;32min\u001b[0m \u001b[0mtrees\u001b[0m\u001b[1;33m)\u001b[0m\u001b[1;33m\u001b[0m\u001b[0m\n\u001b[0m\u001b[0;32m    152\u001b[0m \u001b[1;33m\u001b[0m\u001b[0m\n\u001b[0;32m    153\u001b[0m \u001b[1;33m\u001b[0m\u001b[0m\n",
        "\u001b[1;32m/usr/lib/python2.7/dist-packages/sklearn/ensemble/forest.pyc\u001b[0m in \u001b[0;36m<genexpr>\u001b[1;34m((tree,))\u001b[0m\n\u001b[0;32m    149\u001b[0m \u001b[1;32mdef\u001b[0m \u001b[0m_parallel_predict_regression\u001b[0m\u001b[1;33m(\u001b[0m\u001b[0mtrees\u001b[0m\u001b[1;33m,\u001b[0m \u001b[0mX\u001b[0m\u001b[1;33m)\u001b[0m\u001b[1;33m:\u001b[0m\u001b[1;33m\u001b[0m\u001b[0m\n\u001b[0;32m    150\u001b[0m     \u001b[1;34m\"\"\"Private function used to compute a batch of predictions within a job.\"\"\"\u001b[0m\u001b[1;33m\u001b[0m\u001b[0m\n\u001b[1;32m--> 151\u001b[1;33m     \u001b[1;32mreturn\u001b[0m \u001b[0msum\u001b[0m\u001b[1;33m(\u001b[0m\u001b[0mtree\u001b[0m\u001b[1;33m.\u001b[0m\u001b[0mpredict\u001b[0m\u001b[1;33m(\u001b[0m\u001b[0mX\u001b[0m\u001b[1;33m)\u001b[0m \u001b[1;32mfor\u001b[0m \u001b[0mtree\u001b[0m \u001b[1;32min\u001b[0m \u001b[0mtrees\u001b[0m\u001b[1;33m)\u001b[0m\u001b[1;33m\u001b[0m\u001b[0m\n\u001b[0m\u001b[0;32m    152\u001b[0m \u001b[1;33m\u001b[0m\u001b[0m\n\u001b[0;32m    153\u001b[0m \u001b[1;33m\u001b[0m\u001b[0m\n",
        "\u001b[1;32m/usr/lib/python2.7/dist-packages/sklearn/tree/tree.pyc\u001b[0m in \u001b[0;36mpredict\u001b[1;34m(self, X)\u001b[0m\n\u001b[0;32m    280\u001b[0m                              \u001b[1;34m\" match the input. Model n_features is %s and \"\u001b[0m\u001b[1;33m\u001b[0m\u001b[0m\n\u001b[0;32m    281\u001b[0m                              \u001b[1;34m\" input n_features is %s \"\u001b[0m\u001b[1;33m\u001b[0m\u001b[0m\n\u001b[1;32m--> 282\u001b[1;33m                              % (self.n_features_, n_features))\n\u001b[0m\u001b[0;32m    283\u001b[0m \u001b[1;33m\u001b[0m\u001b[0m\n\u001b[0;32m    284\u001b[0m         \u001b[0mproba\u001b[0m \u001b[1;33m=\u001b[0m \u001b[0mself\u001b[0m\u001b[1;33m.\u001b[0m\u001b[0mtree_\u001b[0m\u001b[1;33m.\u001b[0m\u001b[0mpredict\u001b[0m\u001b[1;33m(\u001b[0m\u001b[0mX\u001b[0m\u001b[1;33m)\u001b[0m\u001b[1;33m\u001b[0m\u001b[0m\n",
        "\u001b[1;31mValueError\u001b[0m: Number of features of the model must  match the input. Model n_features is 11 and  input n_features is 8 "
       ]
      }
     ],
     "prompt_number": 7
    },
    {
     "cell_type": "code",
     "collapsed": false,
     "input": [
      "fig, axs = plt.subplots(3, 2, figsize=(15,12))\n",
      "for i, ax in enumerate(axs.reshape(-1)):\n",
      "    if i > len(users) - 1:\n",
      "        break\n",
      "    ax.scatter(np.arange(len(error[users[i][0].firstname])), error[users[i][0].firstname])\n",
      "    ax.set_title(users[i][0].firstname)\n",
      "#     ax.set_xlim([-0.5, 0.5])\n",
      "#     ax.set_ylim([0.7, 1])\n",
      "#     print users[i][0].firstname"
     ],
     "language": "python",
     "metadata": {},
     "outputs": [
      {
       "ename": "NameError",
       "evalue": "name 'plt' is not defined",
       "output_type": "pyerr",
       "traceback": [
        "\u001b[1;31m---------------------------------------------------------------------------\u001b[0m\n\u001b[1;31mNameError\u001b[0m                                 Traceback (most recent call last)",
        "\u001b[1;32m<ipython-input-1-b80b67429305>\u001b[0m in \u001b[0;36m<module>\u001b[1;34m()\u001b[0m\n\u001b[1;32m----> 1\u001b[1;33m \u001b[0mfig\u001b[0m\u001b[1;33m,\u001b[0m \u001b[0maxs\u001b[0m \u001b[1;33m=\u001b[0m \u001b[0mplt\u001b[0m\u001b[1;33m.\u001b[0m\u001b[0msubplots\u001b[0m\u001b[1;33m(\u001b[0m\u001b[1;36m3\u001b[0m\u001b[1;33m,\u001b[0m \u001b[1;36m2\u001b[0m\u001b[1;33m,\u001b[0m \u001b[0mfigsize\u001b[0m\u001b[1;33m=\u001b[0m\u001b[1;33m(\u001b[0m\u001b[1;36m15\u001b[0m\u001b[1;33m,\u001b[0m\u001b[1;36m12\u001b[0m\u001b[1;33m)\u001b[0m\u001b[1;33m)\u001b[0m\u001b[1;33m\u001b[0m\u001b[0m\n\u001b[0m\u001b[0;32m      2\u001b[0m \u001b[1;32mfor\u001b[0m \u001b[0mi\u001b[0m\u001b[1;33m,\u001b[0m \u001b[0max\u001b[0m \u001b[1;32min\u001b[0m \u001b[0menumerate\u001b[0m\u001b[1;33m(\u001b[0m\u001b[0maxs\u001b[0m\u001b[1;33m.\u001b[0m\u001b[0mreshape\u001b[0m\u001b[1;33m(\u001b[0m\u001b[1;33m-\u001b[0m\u001b[1;36m1\u001b[0m\u001b[1;33m)\u001b[0m\u001b[1;33m)\u001b[0m\u001b[1;33m:\u001b[0m\u001b[1;33m\u001b[0m\u001b[0m\n\u001b[0;32m      3\u001b[0m     \u001b[1;32mif\u001b[0m \u001b[0mi\u001b[0m \u001b[1;33m>\u001b[0m \u001b[0mlen\u001b[0m\u001b[1;33m(\u001b[0m\u001b[0musers\u001b[0m\u001b[1;33m)\u001b[0m \u001b[1;33m-\u001b[0m \u001b[1;36m1\u001b[0m\u001b[1;33m:\u001b[0m\u001b[1;33m\u001b[0m\u001b[0m\n\u001b[0;32m      4\u001b[0m         \u001b[1;32mbreak\u001b[0m\u001b[1;33m\u001b[0m\u001b[0m\n\u001b[0;32m      5\u001b[0m     \u001b[0max\u001b[0m\u001b[1;33m.\u001b[0m\u001b[0mscatter\u001b[0m\u001b[1;33m(\u001b[0m\u001b[0mnp\u001b[0m\u001b[1;33m.\u001b[0m\u001b[0marange\u001b[0m\u001b[1;33m(\u001b[0m\u001b[0mlen\u001b[0m\u001b[1;33m(\u001b[0m\u001b[0merror\u001b[0m\u001b[1;33m[\u001b[0m\u001b[0musers\u001b[0m\u001b[1;33m[\u001b[0m\u001b[0mi\u001b[0m\u001b[1;33m]\u001b[0m\u001b[1;33m[\u001b[0m\u001b[1;36m0\u001b[0m\u001b[1;33m]\u001b[0m\u001b[1;33m.\u001b[0m\u001b[0mfirstname\u001b[0m\u001b[1;33m]\u001b[0m\u001b[1;33m)\u001b[0m\u001b[1;33m)\u001b[0m\u001b[1;33m,\u001b[0m \u001b[0merror\u001b[0m\u001b[1;33m[\u001b[0m\u001b[0musers\u001b[0m\u001b[1;33m[\u001b[0m\u001b[0mi\u001b[0m\u001b[1;33m]\u001b[0m\u001b[1;33m[\u001b[0m\u001b[1;36m0\u001b[0m\u001b[1;33m]\u001b[0m\u001b[1;33m.\u001b[0m\u001b[0mfirstname\u001b[0m\u001b[1;33m]\u001b[0m\u001b[1;33m)\u001b[0m\u001b[1;33m\u001b[0m\u001b[0m\n",
        "\u001b[1;31mNameError\u001b[0m: name 'plt' is not defined"
       ]
      }
     ],
     "prompt_number": 1
    },
    {
     "cell_type": "code",
     "collapsed": false,
     "input": [
      "# model = GradientBoostingRegressor()\n",
      "# model = AdaBoostRegressor()\n",
      "# model = RandomForestRegressor(max_depth=20, min_samples_split=50)\n",
      "model = linear_model.RANSACRegressor(linear_model.LinearRegression())\n",
      "# model = SVR()\n",
      "# model = LinearRegression()\n",
      "# model = BayesianRidge()"
     ],
     "language": "python",
     "metadata": {},
     "outputs": [
      {
       "ename": "AttributeError",
       "evalue": "'module' object has no attribute 'RANSACRegressor'",
       "output_type": "pyerr",
       "traceback": [
        "\u001b[1;31m---------------------------------------------------------------------------\u001b[0m\n\u001b[1;31mAttributeError\u001b[0m                            Traceback (most recent call last)",
        "\u001b[1;32m<ipython-input-218-5036c2e99269>\u001b[0m in \u001b[0;36m<module>\u001b[1;34m()\u001b[0m\n\u001b[0;32m      2\u001b[0m \u001b[1;31m# model = AdaBoostRegressor()\u001b[0m\u001b[1;33m\u001b[0m\u001b[1;33m\u001b[0m\u001b[0m\n\u001b[0;32m      3\u001b[0m \u001b[1;31m# model = RandomForestRegressor(max_depth=20, min_samples_split=50)\u001b[0m\u001b[1;33m\u001b[0m\u001b[1;33m\u001b[0m\u001b[0m\n\u001b[1;32m----> 4\u001b[1;33m \u001b[0mmodel\u001b[0m \u001b[1;33m=\u001b[0m \u001b[0mlinear_model\u001b[0m\u001b[1;33m.\u001b[0m\u001b[0mRANSACRegressor\u001b[0m\u001b[1;33m(\u001b[0m\u001b[0mlinear_model\u001b[0m\u001b[1;33m.\u001b[0m\u001b[0mLinearRegression\u001b[0m\u001b[1;33m(\u001b[0m\u001b[1;33m)\u001b[0m\u001b[1;33m)\u001b[0m\u001b[1;33m\u001b[0m\u001b[0m\n\u001b[0m\u001b[0;32m      5\u001b[0m \u001b[1;31m# model = SVR()\u001b[0m\u001b[1;33m\u001b[0m\u001b[1;33m\u001b[0m\u001b[0m\n\u001b[0;32m      6\u001b[0m \u001b[1;31m# model = LinearRegression()\u001b[0m\u001b[1;33m\u001b[0m\u001b[1;33m\u001b[0m\u001b[0m\n",
        "\u001b[1;31mAttributeError\u001b[0m: 'module' object has no attribute 'RANSACRegressor'"
       ]
      }
     ],
     "prompt_number": 218
    },
    {
     "cell_type": "code",
     "collapsed": false,
     "input": [
      "user = ryan\n",
      "# delete = [8, 18, 22, 24, 30, 31, 37, 42]\n",
      "indices = np.arange(len(user.activities))\n",
      "indices = np.delete(indices, delete)\n",
      "train_indices = np.random.choice(indices, size=int((len(user.activities) - len(delete))*0.7), replace=False)\n",
      "test_indices = np.setdiff1d(indices, train_indices)\n",
      "\n",
      "df = user.make_df(train_indices)\n",
      "y = df['velocity'].values\n",
      "cols = df.columns\n",
      "X = df[cols[np.where(cols!='velocity')]].values\n",
      "# X = df['one_mile'].values[:, np.newaxis]\n",
      "X_train, X_test, y_train, y_test = train_test_split(X, y, test_size = 0.3)"
     ],
     "language": "python",
     "metadata": {},
     "outputs": [],
     "prompt_number": 211
    },
    {
     "cell_type": "code",
     "collapsed": false,
     "input": [
      "model.fit(X_train, y_train)"
     ],
     "language": "python",
     "metadata": {},
     "outputs": [
      {
       "metadata": {},
       "output_type": "pyout",
       "prompt_number": 212,
       "text": [
        "RandomForestRegressor(bootstrap=True, compute_importances=None,\n",
        "           criterion='mse', max_depth=20, max_features='auto',\n",
        "           min_density=None, min_samples_leaf=1, min_samples_split=50,\n",
        "           n_estimators=10, n_jobs=1, oob_score=False, random_state=None,\n",
        "           verbose=0)"
       ]
      }
     ],
     "prompt_number": 212
    },
    {
     "cell_type": "code",
     "collapsed": false,
     "input": [
      "errors = []\n",
      "errors2 = []\n",
      "outliers = []\n",
      "for idx, a in enumerate(user.activities):\n",
      "    df = a.make_df()\n",
      "    y = df.pop('velocity')\n",
      "    X = df.values\n",
      "    a.predict(model)\n",
      "    error = (a.df.predicted_time.iloc[-1] - a.moving_time)/a.moving_time\n",
      "    error2 = np.mean(a.df.predicted_time - a.df.time)\n",
      "    errors2.append(error2)\n",
      "    errors.append(error)\n",
      "    r2 = r2_score(a.df.velocity, a.df.predicted_velocity)\n",
      "    diff = np.mean(a.df.predicted_velocity - a.df.velocity)\n",
      "\n",
      "    r2_offset = r2_score(a.df.velocity, a.df.predicted_velocity-diff)\n",
      "    if np.abs(error2) > 5000:\n",
      "        outliers.append(idx)\n",
      "    print idx, r2, r2_offset, r2_offset - r2, a.name, error, error2\n",
      "print outliers\n",
      "print test_indices"
     ],
     "language": "python",
     "metadata": {},
     "outputs": [
      {
       "output_type": "stream",
       "stream": "stdout",
       "text": [
        "0 0.633301400887 0.633379167248 7.77663617759e-05 10/24/2014 Petaluma, California -0.0197295783522 -138.683244086\n",
        "1 0.660913910977 0.661098553384 0.000184642407824 Two laps of Helen -0.00789524137245 -87.0785415172\n",
        "2"
       ]
      },
      {
       "output_type": "stream",
       "stream": "stdout",
       "text": [
        " 0.40781988422 0.431252266793 0.0234323825726 Helen with Jmac -0.069511489157 -137.330038254\n",
        "3 0.874085521348 0.874259752123 0.000174230775106 Last minute decision ride.. -0.0173675291544 -3101.03148543\n",
        "4"
       ]
      },
      {
       "output_type": "stream",
       "stream": "stdout",
       "text": [
        " 0.624410803453 0.624533072069 0.000122268616037 The \"numbing\" loop.. -0.00821717957919 -33.4045903446\n",
        "5 0.716766713398 0.732701911527 0.0159351981294 Red hill & Wilson hill loop -0.0703038147941 -134.975626904\n",
        "6"
       ]
      },
      {
       "output_type": "stream",
       "stream": "stdout",
       "text": [
        " 0.765783205522 0.765841874476 5.86689544513e-05 A few morning laps -0.00509817545506 -41.5579449891\n",
        "7 0.851243024277 0.851248927696 5.9034186336e-06 3-man lunch attack -0.00820649822042 -4018.46002069\n",
        "8"
       ]
      },
      {
       "output_type": "stream",
       "stream": "stdout",
       "text": [
        " 0.445293376189 0.505516392074 0.0602230158856  Luther Pass with Seth and Colleen -0.206181646457 -14498.1043751\n",
        "9 0.910583126339 0.910603974948 2.08486087864e-05 Lichau @ lunch -0.00120591496608 -4242.47566602\n",
        "10"
       ]
      },
      {
       "output_type": "stream",
       "stream": "stdout",
       "text": [
        " 0.659615111444 0.659639730632 2.46191873707e-05 Marshall Wall - Tomales -0.0151342283209 -163.877909872\n",
        "11 0.753900281002 0.755570391594 0.00167011059201 11/27/2014 Petaluma, California -0.00841596398162 -41.8173809262\n",
        "12"
       ]
      },
      {
       "output_type": "stream",
       "stream": "stdout",
       "text": [
        " 0.476129986986 0.476586029801 0.000456042814648 Muddy Helen with KD, JSnee, Johnny Mac -0.00139608882927 -49.2976518922\n",
        "13 0.433828503141 0.433833525793 5.02265154323e-06 Ride to the ride -0.00549941469099 -27.29872597\n",
        "14"
       ]
      },
      {
       "output_type": "stream",
       "stream": "stdout",
       "text": [
        " -0.217133522953 -0.143738410874 0.0733951120789 Wind at my back, wind in my face, glass in my tire haha -0.0391854537359 -4659.34890863\n",
        "15 0.32848808884 0.338749555383 0.0102614665427 Ride home.. -0.0256324144387 -1410.91904325\n",
        "16"
       ]
      },
      {
       "output_type": "stream",
       "stream": "stdout",
       "text": [
        " -0.14776464652 -0.0565788838448 0.0911857626755 Franklin Cruise w/ Adam -0.0522649281285 -4738.10543806\n",
        "17 -0.525260341945 -0.163315752427 0.361944589518 After Christmas ride with Daddio -0.123768083007 -4870.02459553\n",
        "18"
       ]
      },
      {
       "output_type": "stream",
       "stream": "stdout",
       "text": [
        " -0.0131427750891 0.11691292229 0.130055697379 Rollin through RoPo -0.0700658830604 -5448.85625334\n",
        "19 0.801489055572 0.801824450806 0.000335395233929 01/01/2015 Petaluma, California -0.0266736963855 -3832.61299831\n",
        "20"
       ]
      },
      {
       "output_type": "stream",
       "stream": "stdout",
       "text": [
        " 0.858357491288 0.858637963627 0.000280472339699 Lichau -0.0188621736416 -3532.17546231\n",
        "21 0.426170684999 0.426194456931 2.37719318921e-05 Helen Trash Can climb 0.00229719550231 -51.9423789722\n",
        "22"
       ]
      },
      {
       "output_type": "stream",
       "stream": "stdout",
       "text": [
        " -2.81475607584 -0.024321236187 2.79043483966 Bolinas Ridge w/ Johnny Mac -0.445932323682 -9082.96187889\n",
        "23 0.718346049872 0.719668763047 0.00132271317467 Doing work after work -0.0267101424945 -4523.39396929\n",
        "24"
       ]
      },
      {
       "output_type": "stream",
       "stream": "stdout",
       "text": [
        " -0.0454678691323 -0.0444133850602 0.00105448407205 Windsor / Healdsburg 0.00112734361119 -10585.3068065\n",
        "25 0.329279592481 0.381593053303 0.0523134608215 After work ride -0.0619565296438 -3682.64813867\n",
        "26"
       ]
      },
      {
       "output_type": "stream",
       "stream": "stdout",
       "text": [
        " 0.461409212015 0.461409213142 1.12695730525e-09 Super Bowl Rowl (solo) -4.11052383705e-05 -12.5640728473\n",
        "27 0.828974019708 0.828976351144 2.33143617911e-06 Lichau Again -0.00657385259973 -4023.64889739\n",
        "28"
       ]
      },
      {
       "output_type": "stream",
       "stream": "stdout",
       "text": [
        " 0.713594966545 0.713700531362 0.000105564817274 Double Ups on Red and Wilson -0.0228396557698 -71.6332604965\n",
        "29 0.562876724378 0.563055190351 0.000178465973012 Ridin -0.0102400922138 -80.4459149219\n",
        "30"
       ]
      },
      {
       "output_type": "stream",
       "stream": "stdout",
       "text": [
        " 0.388745715971 0.398504081386 0.00975836541487 Wilson Hill at lunch 0.0439384915258 -5122.46886565\n",
        "31 0.245702987186 0.305325614914 0.0596226277284 Marin Rollin -0.0848259953522 -15113.8101262\n",
        "32"
       ]
      },
      {
       "output_type": "stream",
       "stream": "stdout",
       "text": [
        " 0.473049435933 0.473411865777 0.000362429844435 Trainin' with Hannah -0.00399648596969 8.11897600414\n",
        "33 0.372058983131 0.434834817307 0.0627758341761 Ride round 2: John's back in CA -0.104711479594 -231.148836488\n",
        "34"
       ]
      },
      {
       "output_type": "stream",
       "stream": "stdout",
       "text": [
        " 0.688318380795 0.691032213039 0.00271383224398 Search and Destroy 0.0146728030053 26.373070242\n",
        "35 0.677763530175 0.681037225863 0.00327369568765 Reverse sling shot: when the Moons propels around you 0.00988739429053 -3757.26154468\n",
        "36"
       ]
      },
      {
       "output_type": "stream",
       "stream": "stdout",
       "text": [
        " 0.456943171393 0.45697552914 3.23577465147e-05 Saddle time -0.00150585047392 -3.04826800175\n",
        "37 -1.83167529134 0.27233899905 2.10401429039 Healdsburg to Cloverdale w/ H -0.299864141928 -12276.9491538\n",
        "38"
       ]
      },
      {
       "output_type": "stream",
       "stream": "stdout",
       "text": [
        " 0.445550498723 0.44564220836 9.17096365477e-05 Catapult into the mud 0.00582603437567 -3540.19126839\n",
        "39 0.0793982609309 0.125184123869 0.0457858629383 One-way ticket: SR to Petaluma 0.0509397028715 -2390.06694778\n",
        "40"
       ]
      },
      {
       "output_type": "stream",
       "stream": "stdout",
       "text": [
        " 0.346548763653 0.36338307356 0.0168343099074 Mnt Bike -0.0449056477409 -168.735157484\n",
        "41 0.376196860172 0.389770577308 0.0135737171363 Trash can sprint 0.0549096410831 -48.9491832388\n",
        "42"
       ]
      },
      {
       "output_type": "stream",
       "stream": "stdout",
       "text": [
        " 0.291835380167 0.2959178283 0.00408244813343 Bici Sunday 0.0281517941898 -13085.6192111\n",
        "43 0.842094631542 0.842540919815 0.000446288273467 Up hill lunch 0.00432378434188 -4047.6294684\n",
        "44"
       ]
      },
      {
       "output_type": "stream",
       "stream": "stdout",
       "text": [
        " 0.65780932983 0.686299585332 0.0284902555012 Awful Weather spin... -0.0910532835812 -152.287437456\n",
        "45 0.694641861981 0.695760673988 0.00111881200682 No wind, no clouds, no worries -0.0357523057578 -72.598723923\n",
        "[8, 18, 22, 24, 30, 31, 37, 42]\n",
        "[ 2  5 14 16 17 25 33 34 39 40 44 45]\n"
       ]
      }
     ],
     "prompt_number": 213
    },
    {
     "cell_type": "code",
     "collapsed": false,
     "input": [
      "plt.hist(errors2)"
     ],
     "language": "python",
     "metadata": {},
     "outputs": [
      {
       "metadata": {},
       "output_type": "pyout",
       "prompt_number": 197,
       "text": [
        "(array([  2.,   2.,   0.,   1.,   1.,   0.,   5.,  11.,   1.,  23.]),\n",
        " array([ -1.53264205e+04,  -1.37940922e+04,  -1.22617639e+04,\n",
        "         -1.07294357e+04,  -9.19710738e+03,  -7.66477910e+03,\n",
        "         -6.13245083e+03,  -4.60012255e+03,  -3.06779427e+03,\n",
        "         -1.53546600e+03,  -3.13772133e+00]),\n",
        " <a list of 10 Patch objects>)"
       ]
      },
      {
       "metadata": {},
       "output_type": "display_data",
       "png": "[encoded data removed]",
       "text": [
        "<matplotlib.figure.Figure at 0x7f45f9ef5510>"
       ]
      }
     ],
     "prompt_number": 197
    },
    {
     "cell_type": "code",
     "collapsed": false,
     "input": [
      "df_test = user.make_df(test_indices)\n",
      "y = df_test['velocity'].values\n",
      "cols = df_test.columns\n",
      "X = df_test[cols[np.where(cols!='velocity')]].values\n",
      "print r2_score(y, model.predict(X))\n",
      "df_train = user.make_df(train_indices)\n",
      "y = df_train['velocity'].values\n",
      "cols = df_train.columns\n",
      "X = df_train[cols[np.where(cols!='velocity')]].values\n",
      "print r2_score(y, model.predict(X))"
     ],
     "language": "python",
     "metadata": {},
     "outputs": [
      {
       "output_type": "stream",
       "stream": "stdout",
       "text": [
        "-0.184827312195\n",
        "0.97492519914"
       ]
      },
      {
       "output_type": "stream",
       "stream": "stdout",
       "text": [
        "\n"
       ]
      }
     ],
     "prompt_number": 198
    },
    {
     "cell_type": "code",
     "collapsed": false,
     "input": [
      "# pickle.dump(model, open('test.pkl', 'wb'))"
     ],
     "language": "python",
     "metadata": {},
     "outputs": [],
     "prompt_number": 199
    },
    {
     "cell_type": "code",
     "collapsed": false,
     "input": [
      "cols = [col for col in df.columns if ('predicted' not in col) and (col != 'velocity')]\n",
      "sorted(zip(model.feature_importances_, cols), key=lambda x: x[0])"
     ],
     "language": "python",
     "metadata": {},
     "outputs": [
      {
       "metadata": {},
       "output_type": "pyout",
       "prompt_number": 200,
       "text": [
        "[(2.8833915580064557e-05, 'grade'),\n",
        " (5.3384915762366453e-05, 'grade_smooth'),\n",
        " (0.0025768839729044487, 'recent'),\n",
        " (0.0027514347213451504, 'distance'),\n",
        " (0.0038064318539563135, 'climb'),\n",
        " (0.0073871102529585409, 'ride_difficulty'),\n",
        " (0.044569668068123867, 'one_mile'),\n",
        " (0.17066121009068055, 'variability'),\n",
        " (0.76816504220868853, 'grade_very_smooth')]"
       ]
      }
     ],
     "prompt_number": 200
    },
    {
     "cell_type": "code",
     "collapsed": false,
     "input": [
      "a = user.activities[32]\n",
      "a.predict(model)\n",
      "fig, axs = plt.subplots(2, 1, figsize=(15, 12))\n",
      "ax = axs[0]\n",
      "ax.plot(a.df.distance, smooth(a.df.grade, 'scipy', 20), c='r')\n",
      "ax = ax.twinx()\n",
      "ax.grid(b=False)\n",
      "ax.plot(a.df.distance, a.df.altitude)\n",
      "# ax.plot(a.df.distance, smooth(a.df.grade, 'scipy', 10000), c='b')\n",
      "ax = axs[1]\n",
      "# ax.grid(b=False)\n",
      "ax.plot(a.df.distance, a.df.velocity)\n",
      "\n",
      "offset = np.mean(a.df.predicted_velocity - a.df.velocity)\n",
      "offset=0\n",
      "ax.plot(a.df.distance, a.df.predicted_velocity-offset, label='predicted')\n",
      "ax.legend()\n",
      "g = np.diff(a.df.altitude) * 100 / np.diff(a.df.distance)\n",
      "g = np.append(g, 0)\n",
      "# ax.plot(a.df.distance, smooth(g, 'scipy', 50))\n",
      "# ax.plot(a.df.distance, smooth(a.df.grade, 'scipy', 50))\n",
      "plt.suptitle(r2_score(a.df.velocity, a.df.predicted_velocity-offset))"
     ],
     "language": "python",
     "metadata": {},
     "outputs": [
      {
       "metadata": {},
       "output_type": "pyout",
       "prompt_number": 214,
       "text": [
        "<matplotlib.text.Text at 0x7f460e50ee90>"
       ]
      },
      {
       "metadata": {},
       "output_type": "display_data",
       "png": "[encoded data removed]",
       "text": [
        "<matplotlib.figure.Figure at 0x7f45f9b31710>"
       ]
      }
     ],
     "prompt_number": 214
    },
    {
     "cell_type": "code",
     "collapsed": false,
     "input": [
      "plt.hist(errors, bins=20)\n",
      "print np.mean(errors2)"
     ],
     "language": "python",
     "metadata": {},
     "outputs": [
      {
       "output_type": "stream",
       "stream": "stdout",
       "text": [
        "0.387786232328\n"
       ]
      },
      {
       "metadata": {},
       "output_type": "display_data",
       "png": "[encoded data removed]",
       "text": [
        "<matplotlib.figure.Figure at 0x7f46150b9d50>"
       ]
      }
     ],
     "prompt_number": 82
    },
    {
     "cell_type": "code",
     "collapsed": false,
     "input": [
      "from sklearn.cluster import KMeans"
     ],
     "language": "python",
     "metadata": {},
     "outputs": [],
     "prompt_number": 83
    },
    {
     "cell_type": "code",
     "collapsed": false,
     "input": [
      "clf = KMeans(n_clusters=20)\n",
      "df = user.make_df()\n",
      "y=df.pop('velocity')\n",
      "X = df[['grade_smooth', '].values"
     ],
     "language": "python",
     "metadata": {},
     "outputs": [],
     "prompt_number": 140
    },
    {
     "cell_type": "code",
     "collapsed": false,
     "input": [
      "scaler = StandardScaler()\n",
      "X_scaled = scaler.fit_transform(X)"
     ],
     "language": "python",
     "metadata": {},
     "outputs": [],
     "prompt_number": 141
    },
    {
     "cell_type": "code",
     "collapsed": false,
     "input": [
      "clf.fit(X)"
     ],
     "language": "python",
     "metadata": {},
     "outputs": [
      {
       "metadata": {},
       "output_type": "pyout",
       "prompt_number": 142,
       "text": [
        "KMeans(copy_x=True, init='k-means++', max_iter=300, n_clusters=20, n_init=10,\n",
        "    n_jobs=1, precompute_distances=True, random_state=None, tol=0.0001,\n",
        "    verbose=0)"
       ]
      }
     ],
     "prompt_number": 142
    },
    {
     "cell_type": "code",
     "collapsed": false,
     "input": [
      "clf.labels_"
     ],
     "language": "python",
     "metadata": {},
     "outputs": [
      {
       "metadata": {},
       "output_type": "pyout",
       "prompt_number": 143,
       "text": [
        "array([4, 4, 4, ..., 5, 5, 5], dtype=int32)"
       ]
      }
     ],
     "prompt_number": 143
    },
    {
     "cell_type": "code",
     "collapsed": false,
     "input": [
      "df['velocity'] = y\n",
      "df['labels'] = clf.labels_\n",
      "# df['centers'] = clf.cluster_centers_"
     ],
     "language": "python",
     "metadata": {},
     "outputs": [],
     "prompt_number": 144
    },
    {
     "cell_type": "code",
     "collapsed": false,
     "input": [
      "gb = df.groupby('labels').mean()\n",
      "gb\n"
     ],
     "language": "python",
     "metadata": {},
     "outputs": [
      {
       "html": [
        "<div style=\"max-height:1000px;max-width:1500px;overflow:auto;\">\n",
        "<table border=\"1\" class=\"dataframe\">\n",
        "  <thead>\n",
        "    <tr style=\"text-align: right;\">\n",
        "      <th></th>\n",
        "      <th>distance</th>\n",
        "      <th>grade</th>\n",
        "      <th>grade_smooth</th>\n",
        "      <th>grade_very_smooth</th>\n",
        "      <th>climb</th>\n",
        "      <th>ride_difficulty</th>\n",
        "      <th>variability</th>\n",
        "      <th>one_mile</th>\n",
        "      <th>velocity</th>\n",
        "    </tr>\n",
        "    <tr>\n",
        "      <th>labels</th>\n",
        "      <th></th>\n",
        "      <th></th>\n",
        "      <th></th>\n",
        "      <th></th>\n",
        "      <th></th>\n",
        "      <th></th>\n",
        "      <th></th>\n",
        "      <th></th>\n",
        "      <th></th>\n",
        "    </tr>\n",
        "  </thead>\n",
        "  <tbody>\n",
        "    <tr>\n",
        "      <th>0 </th>\n",
        "      <td> 18575.659309</td>\n",
        "      <td> 1.732401</td>\n",
        "      <td> 1.726296</td>\n",
        "      <td> 1.724620</td>\n",
        "      <td> 336.834871</td>\n",
        "      <td> 20589125.735965</td>\n",
        "      <td> 5.095475</td>\n",
        "      <td> 0.425686</td>\n",
        "      <td> 7.597486</td>\n",
        "    </tr>\n",
        "    <tr>\n",
        "      <th>1 </th>\n",
        "      <td> 37011.364838</td>\n",
        "      <td> 0.835818</td>\n",
        "      <td> 0.835006</td>\n",
        "      <td> 0.834206</td>\n",
        "      <td> 386.622176</td>\n",
        "      <td> 55122983.557953</td>\n",
        "      <td> 3.329893</td>\n",
        "      <td> 0.318249</td>\n",
        "      <td> 6.765281</td>\n",
        "    </tr>\n",
        "    <tr>\n",
        "      <th>2 </th>\n",
        "      <td> 21254.620611</td>\n",
        "      <td> 0.394264</td>\n",
        "      <td> 0.392483</td>\n",
        "      <td> 0.389939</td>\n",
        "      <td> 113.505682</td>\n",
        "      <td>  9661067.751604</td>\n",
        "      <td> 2.234486</td>\n",
        "      <td> 0.136756</td>\n",
        "      <td> 7.330448</td>\n",
        "    </tr>\n",
        "    <tr>\n",
        "      <th>3 </th>\n",
        "      <td> 42397.130949</td>\n",
        "      <td> 1.083905</td>\n",
        "      <td> 1.084146</td>\n",
        "      <td> 1.084276</td>\n",
        "      <td> 537.711280</td>\n",
        "      <td> 95166594.859209</td>\n",
        "      <td> 4.067467</td>\n",
        "      <td> 0.354030</td>\n",
        "      <td> 7.616466</td>\n",
        "    </tr>\n",
        "    <tr>\n",
        "      <th>4 </th>\n",
        "      <td>  6779.914239</td>\n",
        "      <td> 2.086005</td>\n",
        "      <td> 2.083656</td>\n",
        "      <td> 2.083123</td>\n",
        "      <td> 172.971272</td>\n",
        "      <td>  3861568.690958</td>\n",
        "      <td> 7.049922</td>\n",
        "      <td> 0.108598</td>\n",
        "      <td> 4.583635</td>\n",
        "    </tr>\n",
        "    <tr>\n",
        "      <th>5 </th>\n",
        "      <td> 13563.845444</td>\n",
        "      <td> 2.085845</td>\n",
        "      <td> 2.083515</td>\n",
        "      <td> 2.082327</td>\n",
        "      <td> 266.012552</td>\n",
        "      <td> 14265151.482558</td>\n",
        "      <td> 5.364171</td>\n",
        "      <td> 1.299768</td>\n",
        "      <td> 6.894736</td>\n",
        "    </tr>\n",
        "    <tr>\n",
        "      <th>6 </th>\n",
        "      <td> 26546.836350</td>\n",
        "      <td> 1.095987</td>\n",
        "      <td> 1.093363</td>\n",
        "      <td> 1.090168</td>\n",
        "      <td> 239.548433</td>\n",
        "      <td> 22754974.698937</td>\n",
        "      <td> 3.483311</td>\n",
        "      <td> 0.376747</td>\n",
        "      <td> 7.217552</td>\n",
        "    </tr>\n",
        "    <tr>\n",
        "      <th>7 </th>\n",
        "      <td> 34646.681012</td>\n",
        "      <td> 0.342506</td>\n",
        "      <td> 0.341473</td>\n",
        "      <td> 0.341260</td>\n",
        "      <td> 245.460114</td>\n",
        "      <td> 29661386.402226</td>\n",
        "      <td> 2.139562</td>\n",
        "      <td> 0.029544</td>\n",
        "      <td> 6.907644</td>\n",
        "    </tr>\n",
        "    <tr>\n",
        "      <th>8 </th>\n",
        "      <td> 20668.012962</td>\n",
        "      <td> 2.393326</td>\n",
        "      <td> 2.393428</td>\n",
        "      <td> 2.393612</td>\n",
        "      <td> 575.351611</td>\n",
        "      <td> 51593945.354431</td>\n",
        "      <td> 4.549555</td>\n",
        "      <td> 1.938876</td>\n",
        "      <td> 5.565193</td>\n",
        "    </tr>\n",
        "    <tr>\n",
        "      <th>9 </th>\n",
        "      <td>  6005.560175</td>\n",
        "      <td> 2.606836</td>\n",
        "      <td> 2.602389</td>\n",
        "      <td> 2.601927</td>\n",
        "      <td> 209.594931</td>\n",
        "      <td>  4781675.643191</td>\n",
        "      <td> 8.504341</td>\n",
        "      <td> 0.149619</td>\n",
        "      <td> 3.943659</td>\n",
        "    </tr>\n",
        "    <tr>\n",
        "      <th>10</th>\n",
        "      <td> 32377.365987</td>\n",
        "      <td> 1.353443</td>\n",
        "      <td> 1.350361</td>\n",
        "      <td> 1.349366</td>\n",
        "      <td> 475.141240</td>\n",
        "      <td> 57795429.919189</td>\n",
        "      <td> 4.304849</td>\n",
        "      <td> 0.451282</td>\n",
        "      <td> 7.480326</td>\n",
        "    </tr>\n",
        "    <tr>\n",
        "      <th>11</th>\n",
        "      <td> 15040.279733</td>\n",
        "      <td> 1.215184</td>\n",
        "      <td> 1.214307</td>\n",
        "      <td> 1.214698</td>\n",
        "      <td> 221.367468</td>\n",
        "      <td> 11572142.759587</td>\n",
        "      <td> 4.494707</td>\n",
        "      <td> 0.320426</td>\n",
        "      <td> 6.939648</td>\n",
        "    </tr>\n",
        "    <tr>\n",
        "      <th>12</th>\n",
        "      <td>  5317.753945</td>\n",
        "      <td> 0.816051</td>\n",
        "      <td> 0.804668</td>\n",
        "      <td> 0.800107</td>\n",
        "      <td>  40.363954</td>\n",
        "      <td>   721447.172601</td>\n",
        "      <td> 3.868112</td>\n",
        "      <td>-0.001224</td>\n",
        "      <td> 6.713558</td>\n",
        "    </tr>\n",
        "    <tr>\n",
        "      <th>13</th>\n",
        "      <td> 18434.554757</td>\n",
        "      <td> 0.500482</td>\n",
        "      <td> 0.498867</td>\n",
        "      <td> 0.495373</td>\n",
        "      <td> 108.989557</td>\n",
        "      <td>  8211915.993067</td>\n",
        "      <td> 2.624541</td>\n",
        "      <td> 0.125515</td>\n",
        "      <td> 8.338659</td>\n",
        "    </tr>\n",
        "    <tr>\n",
        "      <th>14</th>\n",
        "      <td> 27412.781593</td>\n",
        "      <td> 0.593060</td>\n",
        "      <td> 0.593454</td>\n",
        "      <td> 0.593926</td>\n",
        "      <td> 234.514089</td>\n",
        "      <td> 24424602.678588</td>\n",
        "      <td> 2.741629</td>\n",
        "      <td> 0.146724</td>\n",
        "      <td> 5.555908</td>\n",
        "    </tr>\n",
        "    <tr>\n",
        "      <th>15</th>\n",
        "      <td> 13047.480293</td>\n",
        "      <td> 2.873315</td>\n",
        "      <td> 2.873286</td>\n",
        "      <td> 2.873307</td>\n",
        "      <td> 333.915798</td>\n",
        "      <td> 15327525.102600</td>\n",
        "      <td> 6.380237</td>\n",
        "      <td> 2.356483</td>\n",
        "      <td> 6.721275</td>\n",
        "    </tr>\n",
        "    <tr>\n",
        "      <th>16</th>\n",
        "      <td> 19018.277775</td>\n",
        "      <td> 0.933856</td>\n",
        "      <td> 0.932952</td>\n",
        "      <td> 0.932794</td>\n",
        "      <td> 186.579186</td>\n",
        "      <td> 13096056.497129</td>\n",
        "      <td> 3.580719</td>\n",
        "      <td> 0.344948</td>\n",
        "      <td> 7.947412</td>\n",
        "    </tr>\n",
        "    <tr>\n",
        "      <th>17</th>\n",
        "      <td> 12026.026859</td>\n",
        "      <td> 1.076942</td>\n",
        "      <td> 1.074756</td>\n",
        "      <td> 1.073286</td>\n",
        "      <td> 151.629404</td>\n",
        "      <td>  6033281.517353</td>\n",
        "      <td> 4.389688</td>\n",
        "      <td> 0.585665</td>\n",
        "      <td> 6.666619</td>\n",
        "    </tr>\n",
        "    <tr>\n",
        "      <th>18</th>\n",
        "      <td>  9555.265973</td>\n",
        "      <td> 2.413753</td>\n",
        "      <td> 2.415537</td>\n",
        "      <td> 2.416108</td>\n",
        "      <td> 249.254083</td>\n",
        "      <td>  8859551.591300</td>\n",
        "      <td> 6.145886</td>\n",
        "      <td> 1.369140</td>\n",
        "      <td> 6.564176</td>\n",
        "    </tr>\n",
        "    <tr>\n",
        "      <th>19</th>\n",
        "      <td> 17465.491783</td>\n",
        "      <td> 0.049918</td>\n",
        "      <td> 0.050898</td>\n",
        "      <td> 0.051252</td>\n",
        "      <td>  34.299511</td>\n",
        "      <td>  2549183.702653</td>\n",
        "      <td> 0.775735</td>\n",
        "      <td> 0.009958</td>\n",
        "      <td> 7.899719</td>\n",
        "    </tr>\n",
        "  </tbody>\n",
        "</table>\n",
        "<p>20 rows \u00d7 9 columns</p>\n",
        "</div>"
       ],
       "metadata": {},
       "output_type": "pyout",
       "prompt_number": 145,
       "text": [
        "            distance     grade  grade_smooth  grade_very_smooth       climb  \\\n",
        "labels                                                                        \n",
        "0       18575.659309  1.732401      1.726296           1.724620  336.834871   \n",
        "1       37011.364838  0.835818      0.835006           0.834206  386.622176   \n",
        "2       21254.620611  0.394264      0.392483           0.389939  113.505682   \n",
        "3       42397.130949  1.083905      1.084146           1.084276  537.711280   \n",
        "4        6779.914239  2.086005      2.083656           2.083123  172.971272   \n",
        "5       13563.845444  2.085845      2.083515           2.082327  266.012552   \n",
        "6       26546.836350  1.095987      1.093363           1.090168  239.548433   \n",
        "7       34646.681012  0.342506      0.341473           0.341260  245.460114   \n",
        "8       20668.012962  2.393326      2.393428           2.393612  575.351611   \n",
        "9        6005.560175  2.606836      2.602389           2.601927  209.594931   \n",
        "10      32377.365987  1.353443      1.350361           1.349366  475.141240   \n",
        "11      15040.279733  1.215184      1.214307           1.214698  221.367468   \n",
        "12       5317.753945  0.816051      0.804668           0.800107   40.363954   \n",
        "13      18434.554757  0.500482      0.498867           0.495373  108.989557   \n",
        "14      27412.781593  0.593060      0.593454           0.593926  234.514089   \n",
        "15      13047.480293  2.873315      2.873286           2.873307  333.915798   \n",
        "16      19018.277775  0.933856      0.932952           0.932794  186.579186   \n",
        "17      12026.026859  1.076942      1.074756           1.073286  151.629404   \n",
        "18       9555.265973  2.413753      2.415537           2.416108  249.254083   \n",
        "19      17465.491783  0.049918      0.050898           0.051252   34.299511   \n",
        "\n",
        "        ride_difficulty  variability  one_mile  velocity  \n",
        "labels                                                    \n",
        "0       20589125.735965     5.095475  0.425686  7.597486  \n",
        "1       55122983.557953     3.329893  0.318249  6.765281  \n",
        "2        9661067.751604     2.234486  0.136756  7.330448  \n",
        "3       95166594.859209     4.067467  0.354030  7.616466  \n",
        "4        3861568.690958     7.049922  0.108598  4.583635  \n",
        "5       14265151.482558     5.364171  1.299768  6.894736  \n",
        "6       22754974.698937     3.483311  0.376747  7.217552  \n",
        "7       29661386.402226     2.139562  0.029544  6.907644  \n",
        "8       51593945.354431     4.549555  1.938876  5.565193  \n",
        "9        4781675.643191     8.504341  0.149619  3.943659  \n",
        "10      57795429.919189     4.304849  0.451282  7.480326  \n",
        "11      11572142.759587     4.494707  0.320426  6.939648  \n",
        "12        721447.172601     3.868112 -0.001224  6.713558  \n",
        "13       8211915.993067     2.624541  0.125515  8.338659  \n",
        "14      24424602.678588     2.741629  0.146724  5.555908  \n",
        "15      15327525.102600     6.380237  2.356483  6.721275  \n",
        "16      13096056.497129     3.580719  0.344948  7.947412  \n",
        "17       6033281.517353     4.389688  0.585665  6.666619  \n",
        "18       8859551.591300     6.145886  1.369140  6.564176  \n",
        "19       2549183.702653     0.775735  0.009958  7.899719  \n",
        "\n",
        "[20 rows x 9 columns]"
       ]
      }
     ],
     "prompt_number": 145
    },
    {
     "cell_type": "code",
     "collapsed": false,
     "input": [
      "gb.loc[[10,12,10,12]].velocity"
     ],
     "language": "python",
     "metadata": {},
     "outputs": [
      {
       "metadata": {},
       "output_type": "pyout",
       "prompt_number": 133,
       "text": [
        "labels\n",
        "10        7.480326\n",
        "12        4.583635\n",
        "10        7.480326\n",
        "12        4.583635\n",
        "Name: velocity, dtype: float64"
       ]
      }
     ],
     "prompt_number": 133
    },
    {
     "cell_type": "code",
     "collapsed": false,
     "input": [
      "dcols = ['distance', 'grade', 'grade_smooth', 'grade_very_smooth', 'climb', 'ride_difficulty', 'variability', 'one_mile']\n",
      "for a in user.activities:\n",
      "    df = a.make_df()\n",
      "    X = df.grade_smooth.values\n",
      "    X = np.vstack([X, np.ones(X.shape[0])]).T\n",
      "    y = df.velocity.values\n",
      "    betas = np.linalg.pinv(X).dot(y)\n",
      "    \n",
      "    print betas, a\n"
     ],
     "language": "python",
     "metadata": {},
     "outputs": [
      {
       "output_type": "stream",
       "stream": "stdout",
       "text": [
        "[-0.13086298  4.35953107] <10/24/2014 Petaluma, California, 2014-10-24 17:57:30, Petaluma, 11619.0>\n",
        "[-0.12435961  4.5048557 ] <Two laps of Helen, 2014-10-25 13:48:41, Petaluma, 12738.6>\n",
        "[-0.10731799  4.09927627] <Helen with Jmac, 2014-10-26 12:43:41, Petaluma, 12173.5>\n",
        "[-0.35470585  7.26616196] <Last minute decision ride.., 2014-11-05 15:51:45, Petaluma, 20147.3>\n",
        "[-0.28808592  8.4162146 ]"
       ]
      },
      {
       "output_type": "stream",
       "stream": "stdout",
       "text": [
        " <The \"numbing\" loop.., 2014-11-08 12:30:42, Petaluma, 46737.3>\n",
        "[-0.40628502  7.4887956 ] <Red hill & Wilson hill loop, 2014-11-09 13:00:03, Petaluma, 27347.6>\n",
        "[-0.23308241  6.33835341] <A few morning laps, 2014-11-12 07:03:08, Petaluma, 16789.6>\n",
        "[-0.38418877  9.01043453] <3-man lunch attack, 2014-11-13 12:04:11, Petaluma, 34682.1>\n",
        "[-0.73414658  7.32232032]"
       ]
      },
      {
       "output_type": "stream",
       "stream": "stdout",
       "text": [
        " < Luther Pass with Seth and Colleen, 2014-11-15 11:23:44, Gardnerville, 51840.6>\n",
        "[-0.46588618  8.05989946] <Lichau @ lunch, 2014-11-18 12:03:13, Petaluma, 27647.6>\n",
        "[-0.35389903  7.95821697] <Marshall Wall - Tomales, 2014-11-23 11:25:42, Petaluma, 66832.9>\n",
        "[-0.47216778  8.4412687 ] <11/27/2014 Petaluma, California, 2014-11-27 11:39:48, Petaluma, 28452.1>\n",
        "[-0.09646546  3.6387967 ] <Muddy Helen with KD, JSnee, Johnny Mac, 2014-12-13 14:54:31, Petaluma, 14406.3>\n",
        "[-0.09022371  7.12856293]"
       ]
      },
      {
       "output_type": "stream",
       "stream": "stdout",
       "text": [
        " <Ride to the ride, 2014-12-14 10:24:36, Petaluma, 8195.2>\n",
        "[-0.38556281  8.40751936] <Wind at my back, wind in my face, glass in my tire haha, 2014-12-14 10:47:51, Petaluma, 30765.7>\n",
        "[-0.21542351  6.15790798] <Ride home.., 2014-12-14 12:07:45, Petaluma, 8560.7>\n",
        "[-0.08178449  8.19394291] <Franklin Cruise w/ Adam, 2014-12-23 11:08:39, Franklin, 36371.5>\n",
        "[ 0.14640645  7.60012208] <After Christmas ride with Daddio, 2014-12-26 13:48:04, Franklin, 34123.4>\n",
        "[-0.24468569  8.01725833]"
       ]
      },
      {
       "output_type": "stream",
       "stream": "stdout",
       "text": [
        " <Rollin through RoPo, 2014-12-31 11:41:24, Petaluma, 39691.9>\n",
        "[-0.41668495  7.96480016] <01/01/2015 Petaluma, California, 2015-01-01 15:28:19, Petaluma, 27075.7>\n",
        "[-0.51713898  8.26616557] <Lichau, 2015-01-06 12:14:39, Penngrove, 21163.6>\n",
        "[-0.08703715  4.64668805] <Helen Trash Can climb, 2015-01-08 17:34:39, Petaluma, 4635.2>\n",
        "[-0.15294797  4.22206777]"
       ]
      },
      {
       "output_type": "stream",
       "stream": "stdout",
       "text": [
        " <Bolinas Ridge w/ Johnny Mac, 2015-01-10 15:10:45, Lagunitas, 24488.8>\n",
        "[-0.33623422  7.316351  ] <Doing work after work, 2015-01-14 16:19:42, Petaluma, 28375.9>\n",
        "[-0.16990134  6.96566039] <Windsor / Healdsburg, 2015-01-31 08:51:09, Windsor, 70119.1>\n",
        "[-0.28175878  7.9755492 ] <After work ride, 2015-01-21 15:47:06, Petaluma, 27336.2>\n",
        "[-0.40103907  8.93937829] <Super Bowl Rowl (solo), 2015-02-01 14:20:18, Petaluma, 45365.5>\n",
        "[-0.50838163  8.54782937]"
       ]
      },
      {
       "output_type": "stream",
       "stream": "stdout",
       "text": [
        " <Lichau Again, 2015-02-03 12:02:24, Petaluma, 28231.8>\n",
        "[-0.38587594  7.63106516] <Double Ups on Red and Wilson, 2015-02-07 11:44:50, Petaluma, 33363.0>\n",
        "[-0.20265762  6.63372788] <Ridin, 2015-02-09 16:57:44, Petaluma, 15253.6>\n",
        "[-0.38027213  8.25394832] <Wilson Hill at lunch, 2015-02-10 12:09:11, Petaluma, 35837.0>\n",
        "[-0.38723033  7.08862042] <Marin Rollin, 2015-02-14 09:15:00, San Rafael, 75559.1>\n",
        "[-0.29602947  5.7686854 ]"
       ]
      },
      {
       "output_type": "stream",
       "stream": "stdout",
       "text": [
        " <Trainin' with Hannah, 2015-02-15 09:28:46, Petaluma, 47960.0>\n",
        "[-0.09071393  3.6336973 ] <Ride round 2: John's back in CA, 2015-02-15 12:55:20, Petaluma, 12462.7>\n",
        "[-0.38987859  8.18619916] <Search and Destroy, 2015-02-17 15:42:15, Petaluma, 27340.6>\n",
        "[-0.50850145  9.95575666] <Reverse sling shot: when the Moons propels around you, 2015-02-19 12:03:50, Petaluma, 36079.0>\n",
        "[-0.20147732  7.59806882] <Saddle time, 2015-02-20 13:29:27, Petaluma, 66839.5>\n",
        "[-0.23785554  5.69706458]"
       ]
      },
      {
       "output_type": "stream",
       "stream": "stdout",
       "text": [
        " <Healdsburg to Cloverdale w/ H, 2015-02-22 10:07:59, Healdsburg, 55097.3>\n",
        "[-0.09074171  4.39886516] <Catapult into the mud, 2015-02-23 16:56:53, Petaluma, 13744.4>\n",
        "[-0.37679893  8.94046655] <One-way ticket: SR to Petaluma, 2015-02-25 08:02:33, Santa Rosa, 20922.6>\n",
        "[-0.06729607  4.10826246] <Mnt Bike, 2015-02-26 16:30:21, Petaluma, 12910.6>\n",
        "[-0.11078119  5.57847558] <Trash can sprint, 2015-02-26 17:32:50, Petaluma, 2063.6>\n",
        "[-0.29754028  7.93904298]"
       ]
      },
      {
       "output_type": "stream",
       "stream": "stdout",
       "text": [
        " <Bici Sunday, 2015-03-01 09:42:15, Petaluma, 86859.8>\n",
        "[-0.48828025  8.61087743] <Up hill lunch, 2015-03-03 12:01:45, Petaluma, 28315.3>\n",
        "[-0.38515676  7.39638363] <Awful Weather spin..., 2015-03-05 16:18:46, Petaluma, 28051.7>\n",
        "[-0.40168044  7.82854252] <No wind, no clouds, no worries, 2015-03-09 15:45:20, Petaluma, 28114.8>\n"
       ]
      }
     ],
     "prompt_number": 151
    },
    {
     "cell_type": "code",
     "collapsed": false,
     "input": [],
     "language": "python",
     "metadata": {},
     "outputs": []
    }
   ],
   "metadata": {}
  }
 ]
}